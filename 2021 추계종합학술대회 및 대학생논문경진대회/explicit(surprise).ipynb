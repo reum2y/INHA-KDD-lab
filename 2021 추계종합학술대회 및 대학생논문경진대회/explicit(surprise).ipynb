{
 "cells": [
  {
   "cell_type": "markdown",
   "id": "fc3f6908",
   "metadata": {},
   "source": [
    "# explicit 데이터만 surprise로 돌리는 파일"
   ]
  },
  {
   "cell_type": "code",
   "execution_count": 1,
   "id": "9ccf05d4",
   "metadata": {},
   "outputs": [],
   "source": [
    "import numpy as np \n",
    "import pandas as pd\n",
    "import matplotlib.pyplot as plt\n",
    "import seaborn as sns\n",
    "from sklearn.preprocessing import MinMaxScaler\n",
    "\n",
    "from surprise import Dataset \n",
    "from surprise import Reader\n",
    "from surprise.model_selection import train_test_split\n",
    "from surprise import accuracy\n",
    "from surprise.model_selection import GridSearchCV,RandomizedSearchCV\n",
    "from sklearn.metrics import confusion_matrix, precision_score, recall_score,classification_report"
   ]
  },
  {
   "cell_type": "code",
   "execution_count": 2,
   "id": "01850531",
   "metadata": {},
   "outputs": [
    {
     "data": {
      "text/plain": [
       "5.000000    274\n",
       "3.000000    219\n",
       "4.500000    115\n",
       "4.000000    114\n",
       "4.200000    113\n",
       "4.600000    101\n",
       "3.800000    101\n",
       "4.400000     99\n",
       "4.800000     94\n",
       "3.600000     86\n",
       "3.400000     73\n",
       "4.100000     63\n",
       "4.300000     63\n",
       "4.700000     61\n",
       "3.700000     49\n",
       "3.900000     48\n",
       "4.900000     48\n",
       "3.500000     47\n",
       "3.200000     38\n",
       "3.100000     32\n",
       "3.300000     31\n",
       "2.900000     16\n",
       "2.800000     10\n",
       "2.700000      8\n",
       "2.500000      7\n",
       "4.666667      5\n",
       "2.200000      5\n",
       "2.600000      5\n",
       "2.000000      4\n",
       "1.000000      4\n",
       "2.300000      4\n",
       "1.500000      4\n",
       "2.400000      3\n",
       "4.333333      2\n",
       "3.666667      2\n",
       "2.100000      2\n",
       "0.200000      1\n",
       "0.400000      1\n",
       "0.900000      1\n",
       "4.833333      1\n",
       "0.800000      1\n",
       "1.800000      1\n",
       "1.100000      1\n",
       "1.700000      1\n",
       "1.900000      1\n",
       "0.500000      1\n",
       "Name: rating, dtype: int64"
      ]
     },
     "execution_count": 2,
     "metadata": {},
     "output_type": "execute_result"
    }
   ],
   "source": [
    "import pandas as pd\n",
    "from surprise import Dataset, Reader\n",
    "from surprise import accuracy\n",
    "from surprise.model_selection import train_test_split\n",
    "\n",
    "ratings = pd.read_csv('notcrawling_comment_review.csv')\n",
    "ratings = ratings[['user_id','product_id','rating']]\n",
    "# ratings = ratings.astype('int')\n",
    "# ratings['rating'] *= 1/5\n",
    "\n",
    "\n",
    "rating_0=ratings[ratings['rating']==0].index\n",
    "ratings=ratings.drop(rating_0)\n",
    "\n",
    "ratings['rating'].value_counts()"
   ]
  },
  {
   "cell_type": "code",
   "execution_count": 495,
   "id": "49a29487",
   "metadata": {},
   "outputs": [
    {
     "data": {
      "text/html": [
       "<div>\n",
       "<style scoped>\n",
       "    .dataframe tbody tr th:only-of-type {\n",
       "        vertical-align: middle;\n",
       "    }\n",
       "\n",
       "    .dataframe tbody tr th {\n",
       "        vertical-align: top;\n",
       "    }\n",
       "\n",
       "    .dataframe thead th {\n",
       "        text-align: right;\n",
       "    }\n",
       "</style>\n",
       "<table border=\"1\" class=\"dataframe\">\n",
       "  <thead>\n",
       "    <tr style=\"text-align: right;\">\n",
       "      <th></th>\n",
       "      <th>user_id</th>\n",
       "      <th>product_id</th>\n",
       "      <th>rating</th>\n",
       "    </tr>\n",
       "  </thead>\n",
       "  <tbody>\n",
       "    <tr>\n",
       "      <th>0</th>\n",
       "      <td>35941</td>\n",
       "      <td>45</td>\n",
       "      <td>4.8</td>\n",
       "    </tr>\n",
       "    <tr>\n",
       "      <th>1</th>\n",
       "      <td>35941</td>\n",
       "      <td>77</td>\n",
       "      <td>4.9</td>\n",
       "    </tr>\n",
       "    <tr>\n",
       "      <th>2</th>\n",
       "      <td>35941</td>\n",
       "      <td>117</td>\n",
       "      <td>4.1</td>\n",
       "    </tr>\n",
       "    <tr>\n",
       "      <th>3</th>\n",
       "      <td>36449</td>\n",
       "      <td>75</td>\n",
       "      <td>4.6</td>\n",
       "    </tr>\n",
       "    <tr>\n",
       "      <th>4</th>\n",
       "      <td>36449</td>\n",
       "      <td>117</td>\n",
       "      <td>5.0</td>\n",
       "    </tr>\n",
       "    <tr>\n",
       "      <th>...</th>\n",
       "      <td>...</td>\n",
       "      <td>...</td>\n",
       "      <td>...</td>\n",
       "    </tr>\n",
       "    <tr>\n",
       "      <th>1955</th>\n",
       "      <td>87065</td>\n",
       "      <td>1585</td>\n",
       "      <td>3.0</td>\n",
       "    </tr>\n",
       "    <tr>\n",
       "      <th>1956</th>\n",
       "      <td>123367</td>\n",
       "      <td>1637</td>\n",
       "      <td>4.8</td>\n",
       "    </tr>\n",
       "    <tr>\n",
       "      <th>1957</th>\n",
       "      <td>91839</td>\n",
       "      <td>1635</td>\n",
       "      <td>3.2</td>\n",
       "    </tr>\n",
       "    <tr>\n",
       "      <th>1958</th>\n",
       "      <td>123494</td>\n",
       "      <td>1637</td>\n",
       "      <td>4.8</td>\n",
       "    </tr>\n",
       "    <tr>\n",
       "      <th>1959</th>\n",
       "      <td>76639</td>\n",
       "      <td>1635</td>\n",
       "      <td>3.0</td>\n",
       "    </tr>\n",
       "  </tbody>\n",
       "</table>\n",
       "<p>1960 rows × 3 columns</p>\n",
       "</div>"
      ],
      "text/plain": [
       "      user_id  product_id  rating\n",
       "0       35941          45     4.8\n",
       "1       35941          77     4.9\n",
       "2       35941         117     4.1\n",
       "3       36449          75     4.6\n",
       "4       36449         117     5.0\n",
       "...       ...         ...     ...\n",
       "1955    87065        1585     3.0\n",
       "1956   123367        1637     4.8\n",
       "1957    91839        1635     3.2\n",
       "1958   123494        1637     4.8\n",
       "1959    76639        1635     3.0\n",
       "\n",
       "[1960 rows x 3 columns]"
      ]
     },
     "execution_count": 495,
     "metadata": {},
     "output_type": "execute_result"
    }
   ],
   "source": [
    "ratings"
   ]
  },
  {
   "cell_type": "code",
   "execution_count": 3,
   "id": "5c67d113",
   "metadata": {},
   "outputs": [
    {
     "data": {
      "text/html": [
       "<div>\n",
       "<style scoped>\n",
       "    .dataframe tbody tr th:only-of-type {\n",
       "        vertical-align: middle;\n",
       "    }\n",
       "\n",
       "    .dataframe tbody tr th {\n",
       "        vertical-align: top;\n",
       "    }\n",
       "\n",
       "    .dataframe thead th {\n",
       "        text-align: right;\n",
       "    }\n",
       "</style>\n",
       "<table border=\"1\" class=\"dataframe\">\n",
       "  <thead>\n",
       "    <tr style=\"text-align: right;\">\n",
       "      <th></th>\n",
       "      <th>user_id</th>\n",
       "      <th>product_id</th>\n",
       "      <th>rating</th>\n",
       "    </tr>\n",
       "  </thead>\n",
       "  <tbody>\n",
       "    <tr>\n",
       "      <th>0</th>\n",
       "      <td>35941</td>\n",
       "      <td>45</td>\n",
       "      <td>0.958333</td>\n",
       "    </tr>\n",
       "    <tr>\n",
       "      <th>1</th>\n",
       "      <td>35941</td>\n",
       "      <td>77</td>\n",
       "      <td>0.979167</td>\n",
       "    </tr>\n",
       "    <tr>\n",
       "      <th>2</th>\n",
       "      <td>35941</td>\n",
       "      <td>117</td>\n",
       "      <td>0.812500</td>\n",
       "    </tr>\n",
       "    <tr>\n",
       "      <th>3</th>\n",
       "      <td>36449</td>\n",
       "      <td>75</td>\n",
       "      <td>0.916667</td>\n",
       "    </tr>\n",
       "    <tr>\n",
       "      <th>4</th>\n",
       "      <td>36449</td>\n",
       "      <td>117</td>\n",
       "      <td>1.000000</td>\n",
       "    </tr>\n",
       "    <tr>\n",
       "      <th>...</th>\n",
       "      <td>...</td>\n",
       "      <td>...</td>\n",
       "      <td>...</td>\n",
       "    </tr>\n",
       "    <tr>\n",
       "      <th>1955</th>\n",
       "      <td>87065</td>\n",
       "      <td>1585</td>\n",
       "      <td>0.583333</td>\n",
       "    </tr>\n",
       "    <tr>\n",
       "      <th>1956</th>\n",
       "      <td>123367</td>\n",
       "      <td>1637</td>\n",
       "      <td>0.958333</td>\n",
       "    </tr>\n",
       "    <tr>\n",
       "      <th>1957</th>\n",
       "      <td>91839</td>\n",
       "      <td>1635</td>\n",
       "      <td>0.625000</td>\n",
       "    </tr>\n",
       "    <tr>\n",
       "      <th>1958</th>\n",
       "      <td>123494</td>\n",
       "      <td>1637</td>\n",
       "      <td>0.958333</td>\n",
       "    </tr>\n",
       "    <tr>\n",
       "      <th>1959</th>\n",
       "      <td>76639</td>\n",
       "      <td>1635</td>\n",
       "      <td>0.583333</td>\n",
       "    </tr>\n",
       "  </tbody>\n",
       "</table>\n",
       "<p>1960 rows × 3 columns</p>\n",
       "</div>"
      ],
      "text/plain": [
       "      user_id  product_id    rating\n",
       "0       35941          45  0.958333\n",
       "1       35941          77  0.979167\n",
       "2       35941         117  0.812500\n",
       "3       36449          75  0.916667\n",
       "4       36449         117  1.000000\n",
       "...       ...         ...       ...\n",
       "1955    87065        1585  0.583333\n",
       "1956   123367        1637  0.958333\n",
       "1957    91839        1635  0.625000\n",
       "1958   123494        1637  0.958333\n",
       "1959    76639        1635  0.583333\n",
       "\n",
       "[1960 rows x 3 columns]"
      ]
     },
     "execution_count": 3,
     "metadata": {},
     "output_type": "execute_result"
    }
   ],
   "source": [
    "scaler = MinMaxScaler()\n",
    "scaled = scaler.fit_transform(ratings['rating'].values.reshape(-1,1))\n",
    "ratings.insert(0, 'scaled', scaled)\n",
    "ratings.drop(['rating'], axis=1, inplace=True)\n",
    "ratings=ratings[[\"user_id\",'product_id','scaled']]\n",
    "ratings.rename(columns={'scaled':'rating'}, inplace=True)\n",
    "ratings"
   ]
  },
  {
   "cell_type": "code",
   "execution_count": 5,
   "id": "ac3880f2",
   "metadata": {},
   "outputs": [],
   "source": [
    "ratings.to_csv(\"scaled_not.csv\")"
   ]
  },
  {
   "cell_type": "code",
   "execution_count": 497,
   "id": "856eb5e8",
   "metadata": {},
   "outputs": [],
   "source": [
    "reader = Reader(rating_scale=(0.0, 1.0))\n",
    "\n",
    "# load_from_df사용해서 데이터프레임을 데이터셋으로 로드\n",
    "# 인자에 userid-itemid-ratings 변수들이 포함된 데이터프레임형태로 넣어주면 됨!\n",
    "data = Dataset.load_from_df(ratings[['user_id','product_id','rating']],\n",
    "                           reader=reader)\n",
    "train, test = train_test_split(data, test_size=0.25, random_state=42)"
   ]
  },
  {
   "cell_type": "code",
   "execution_count": 498,
   "id": "7371f262",
   "metadata": {},
   "outputs": [
    {
     "data": {
      "text/plain": [
       "1.000000    274\n",
       "0.583333    219\n",
       "0.895833    115\n",
       "0.791667    114\n",
       "0.833333    113\n",
       "0.750000    101\n",
       "0.916667    101\n",
       "0.875000     99\n",
       "0.958333     94\n",
       "0.708333     86\n",
       "0.666667     73\n",
       "0.812500     63\n",
       "0.854167     63\n",
       "0.937500     61\n",
       "0.729167     49\n",
       "0.979167     48\n",
       "0.770833     48\n",
       "0.687500     47\n",
       "0.625000     38\n",
       "0.604167     32\n",
       "0.645833     31\n",
       "0.562500     16\n",
       "0.541667     10\n",
       "0.520833      8\n",
       "0.479167      7\n",
       "0.930556      5\n",
       "0.416667      5\n",
       "0.500000      5\n",
       "0.166667      4\n",
       "0.437500      4\n",
       "0.270833      4\n",
       "0.375000      4\n",
       "0.458333      3\n",
       "0.722222      2\n",
       "0.861111      2\n",
       "0.395833      2\n",
       "0.312500      1\n",
       "0.062500      1\n",
       "0.965278      1\n",
       "0.354167      1\n",
       "0.333333      1\n",
       "0.125000      1\n",
       "0.145833      1\n",
       "0.041667      1\n",
       "0.187500      1\n",
       "0.000000      1\n",
       "Name: rating, dtype: int64"
      ]
     },
     "execution_count": 498,
     "metadata": {},
     "output_type": "execute_result"
    }
   ],
   "source": [
    "ratings['rating'].value_counts()"
   ]
  },
  {
   "cell_type": "code",
   "execution_count": 499,
   "id": "304dbe8e",
   "metadata": {},
   "outputs": [
    {
     "data": {
      "text/plain": [
       "<surprise.prediction_algorithms.matrix_factorization.SVD at 0x14f2bb7f0>"
      ]
     },
     "execution_count": 499,
     "metadata": {},
     "output_type": "execute_result"
    }
   ],
   "source": [
    "from surprise import SVD\n",
    "algo = SVD()\n",
    "algo.fit(train)"
   ]
  },
  {
   "cell_type": "code",
   "execution_count": 500,
   "id": "5b064443",
   "metadata": {},
   "outputs": [
    {
     "name": "stdout",
     "output_type": "stream",
     "text": [
      "prediction type:  <class 'list'> size:  490\n",
      "\n",
      "prediction 결과값 5개 미리보기\n",
      "[Prediction(uid=85968, iid=494, r_ui=0.9166666666666666, est=0.7523259234274223, details={'was_impossible': False}), Prediction(uid=104175, iid=474, r_ui=0.5833333333333334, est=0.6588658332050255, details={'was_impossible': False}), Prediction(uid=20303, iid=80, r_ui=0.5833333333333334, est=0.8087320756757579, details={'was_impossible': False}), Prediction(uid=110521, iid=1322, r_ui=0.9166666666666666, est=0.7622089251341331, details={'was_impossible': False}), Prediction(uid=123199, iid=1423, r_ui=1.0, est=0.8193822610570871, details={'was_impossible': False})]\n"
     ]
    }
   ],
   "source": [
    "prediction = algo.test(test)\n",
    "print('prediction type: ', type(prediction),\n",
    "     'size: ', len(prediction))\n",
    "print()\n",
    "print('prediction 결과값 5개 미리보기')\n",
    "print(prediction[:5])"
   ]
  },
  {
   "cell_type": "code",
   "execution_count": 501,
   "id": "100e40b8",
   "metadata": {},
   "outputs": [
    {
     "name": "stdout",
     "output_type": "stream",
     "text": [
      "[(85968, 494, 0.7523259234274223), (104175, 474, 0.6588658332050255), (20303, 80, 0.8087320756757579), (110521, 1322, 0.7622089251341331), (123199, 1423, 0.8193822610570871)]\n"
     ]
    }
   ],
   "source": [
    "# user id, item id, 예측평점값들만 추출해서 하나의 튜플로 담겨있도록 하기\n",
    "result = [(pred.uid, pred.iid, pred.est) for pred in prediction[:5]]\n",
    "print(result)"
   ]
  },
  {
   "cell_type": "code",
   "execution_count": 502,
   "id": "f3134e12",
   "metadata": {},
   "outputs": [
    {
     "name": "stdout",
     "output_type": "stream",
     "text": [
      "user: 79         item: 3          r_ui = None   est = 0.79   {'was_impossible': False}\n"
     ]
    }
   ],
   "source": [
    "# 개별 데이터에 대한 예측값 반환을 위해서 predict() 사용\n",
    "# user id, item id는 문자열로 되어있기 때문에 문자열로 넣어주어야 함!\n",
    "uid = str(79)\n",
    "iid = str(3)\n",
    "# 변수 순서 지켜주어서 넣어주어야 함!\n",
    "pred = algo.predict(uid, iid)\n",
    "print(pred)"
   ]
  },
  {
   "cell_type": "code",
   "execution_count": 503,
   "id": "65224b5e",
   "metadata": {},
   "outputs": [
    {
     "name": "stdout",
     "output_type": "stream",
     "text": [
      "RMSE: 0.1583\n"
     ]
    },
    {
     "data": {
      "text/plain": [
       "0.15825846635055263"
      ]
     },
     "execution_count": 503,
     "metadata": {},
     "output_type": "execute_result"
    }
   ],
   "source": [
    "predictions = algo.test(test)\n",
    "accuracy.rmse(predictions)"
   ]
  },
  {
   "cell_type": "code",
   "execution_count": 504,
   "id": "fb574887",
   "metadata": {},
   "outputs": [
    {
     "name": "stdout",
     "output_type": "stream",
     "text": [
      "Evaluating RMSE, MAE of algorithm SVD on 5 split(s).\n",
      "\n",
      "                  Fold 1  Fold 2  Fold 3  Fold 4  Fold 5  Mean    Std     \n",
      "RMSE (testset)    0.1502  0.1612  0.1450  0.1439  0.1620  0.1525  0.0078  \n",
      "MAE (testset)     0.1185  0.1261  0.1190  0.1155  0.1277  0.1214  0.0047  \n",
      "Fit time          0.03    0.03    0.03    0.03    0.03    0.03    0.00    \n",
      "Test time         0.00    0.00    0.00    0.00    0.00    0.00    0.00    \n"
     ]
    },
    {
     "data": {
      "text/plain": [
       "{'test_rmse': array([0.1501719 , 0.16124977, 0.14500206, 0.14392658, 0.16198093]),\n",
       " 'test_mae': array([0.11852219, 0.12607551, 0.11899122, 0.11550673, 0.12772364]),\n",
       " 'fit_time': (0.028866052627563477,\n",
       "  0.02847599983215332,\n",
       "  0.028785228729248047,\n",
       "  0.029397010803222656,\n",
       "  0.029764175415039062),\n",
       " 'test_time': (0.0016450881958007812,\n",
       "  0.0009610652923583984,\n",
       "  0.0010020732879638672,\n",
       "  0.001447916030883789,\n",
       "  0.0009989738464355469)}"
      ]
     },
     "execution_count": 504,
     "metadata": {},
     "output_type": "execute_result"
    }
   ],
   "source": [
    "from surprise.model_selection import cross_validate\n",
    "\n",
    "algo = SVD(n_factors=50, random_state=42)\n",
    "# cross_validate에는 파라미터를 입력시켜 놓은 모델을 인자로 넣어주자!\n",
    "cross_validate(algo, data, measures=['RMSE','MAE'], cv=5,\n",
    "              verbose=True)"
   ]
  },
  {
   "cell_type": "code",
   "execution_count": 505,
   "id": "e25f286a",
   "metadata": {},
   "outputs": [
    {
     "name": "stderr",
     "output_type": "stream",
     "text": [
      "/Users/duduuman/miniforge3/envs/tf/lib/python3.8/site-packages/seaborn/_decorators.py:36: FutureWarning: Pass the following variable as a keyword arg: x. From version 0.12, the only valid positional argument will be `data`, and passing other arguments without an explicit keyword will result in an error or misinterpretation.\n",
      "  warnings.warn(\n"
     ]
    },
    {
     "data": {
      "text/plain": [
       "Text(0, 0.5, 'Total number of ratings')"
      ]
     },
     "execution_count": 505,
     "metadata": {},
     "output_type": "execute_result"
    },
    {
     "data": {
      "image/png": "[encoded data removed]",
      "text/plain": [
       "<Figure size 864x576 with 1 Axes>"
      ]
     },
     "metadata": {
      "needs_background": "light"
     },
     "output_type": "display_data"
    }
   ],
   "source": [
    "fig, ax = plt.subplots(figsize=(12,8))\n",
    "ax.set_title('Ratings distribution', fontsize=15)\n",
    "sns.countplot(ratings['rating'])\n",
    "ax.set_xlabel(\"ratings in interval\")\n",
    "ax.set_ylabel(\"Total number of ratings\")"
   ]
  },
  {
   "cell_type": "code",
   "execution_count": 506,
   "id": "eb0b9b6c",
   "metadata": {},
   "outputs": [
    {
     "name": "stdout",
     "output_type": "stream",
     "text": [
      "Size of trainset:  1470\n",
      "Size of testset:  490\n"
     ]
    }
   ],
   "source": [
    "print(\"Size of trainset: \", train.n_ratings)\n",
    "print(\"Size of testset: \", len(test))"
   ]
  },
  {
   "cell_type": "code",
   "execution_count": 507,
   "id": "472fccbf",
   "metadata": {},
   "outputs": [],
   "source": [
    "# from surprise import BaselineOnly"
   ]
  },
  {
   "cell_type": "code",
   "execution_count": 508,
   "id": "03057fc5",
   "metadata": {},
   "outputs": [],
   "source": [
    "# baseline_model = BaselineOnly(verbose = False)\n",
    "# baseline_model.fit(train)"
   ]
  },
  {
   "cell_type": "code",
   "execution_count": 509,
   "id": "4f008969",
   "metadata": {},
   "outputs": [],
   "source": [
    "# train_predictions = baseline_model.test(train.build_testset())\n",
    "# test_predictions = baseline_model.test(test)\n",
    "# print(\"RMSE on training data : \", accuracy.rmse(train_predictions,verbose = False))\n",
    "# print(\"RMSE on test data: \", accuracy.rmse(test_predictions,verbose = False))"
   ]
  },
  {
   "cell_type": "markdown",
   "id": "66fbab72",
   "metadata": {},
   "source": [
    "# KNNWithMeans"
   ]
  },
  {
   "cell_type": "code",
   "execution_count": 510,
   "id": "62cb13a3",
   "metadata": {},
   "outputs": [
    {
     "data": {
      "text/plain": [
       "<surprise.prediction_algorithms.knns.KNNWithMeans at 0x14f223b50>"
      ]
     },
     "execution_count": 510,
     "metadata": {},
     "output_type": "execute_result"
    }
   ],
   "source": [
    "from surprise import KNNWithMeans\n",
    "knn_model = KNNWithMeans(random_state = 42,verbose = False)\n",
    "knn_model.fit(train)"
   ]
  },
  {
   "cell_type": "code",
   "execution_count": 511,
   "id": "7e86496e",
   "metadata": {},
   "outputs": [
    {
     "name": "stdout",
     "output_type": "stream",
     "text": [
      "RMSE on training data :  0.06839297126437402\n",
      "RMSE on test data:  0.14515503418782347\n"
     ]
    }
   ],
   "source": [
    "train_predictions = knn_model.test(train.build_testset())\n",
    "test_predictions = knn_model.test(test)\n",
    "print(\"RMSE on training data : \", accuracy.rmse(train_predictions, verbose = False))\n",
    "print(\"RMSE on test data: \", accuracy.rmse(test_predictions, verbose = False))"
   ]
  },
  {
   "cell_type": "code",
   "execution_count": 512,
   "id": "6237519c",
   "metadata": {},
   "outputs": [
    {
     "name": "stdout",
     "output_type": "stream",
     "text": [
      "Computing the msd similarity matrix...\n",
      "Done computing similarity matrix.\n",
      "Computing the msd similarity matrix...\n",
      "Done computing similarity matrix.\n",
      "Computing the msd similarity matrix...\n",
      "Done computing similarity matrix.\n",
      "Computing the msd similarity matrix...\n",
      "Done computing similarity matrix.\n",
      "Computing the msd similarity matrix...\n",
      "Done computing similarity matrix.\n",
      "Computing the msd similarity matrix...\n",
      "Done computing similarity matrix.\n",
      "Computing the msd similarity matrix...\n",
      "Done computing similarity matrix.\n",
      "Computing the msd similarity matrix...\n",
      "Done computing similarity matrix.\n",
      "Computing the msd similarity matrix...\n",
      "Done computing similarity matrix.\n",
      "Computing the msd similarity matrix...\n",
      "Done computing similarity matrix.\n",
      "Computing the msd similarity matrix...\n",
      "Done computing similarity matrix.\n",
      "Computing the msd similarity matrix...\n",
      "Done computing similarity matrix.\n",
      "Computing the msd similarity matrix...\n",
      "Done computing similarity matrix.\n",
      "Computing the msd similarity matrix...\n",
      "Done computing similarity matrix.\n",
      "Computing the msd similarity matrix...\n",
      "Done computing similarity matrix.\n",
      "Computing the msd similarity matrix...\n",
      "Done computing similarity matrix.\n",
      "Computing the msd similarity matrix...\n",
      "Done computing similarity matrix.\n",
      "Computing the msd similarity matrix...\n",
      "Done computing similarity matrix.\n",
      "Computing the msd similarity matrix...\n",
      "Done computing similarity matrix.\n",
      "Computing the msd similarity matrix...\n",
      "Done computing similarity matrix.\n",
      "Computing the msd similarity matrix...\n",
      "Done computing similarity matrix.\n",
      "Computing the msd similarity matrix...\n",
      "Done computing similarity matrix.\n",
      "Computing the msd similarity matrix...\n",
      "Done computing similarity matrix.\n",
      "Computing the msd similarity matrix...\n",
      "Done computing similarity matrix.\n",
      "Computing the msd similarity matrix...\n",
      "Done computing similarity matrix.\n",
      "Computing the msd similarity matrix...\n",
      "Done computing similarity matrix.\n",
      "Computing the msd similarity matrix...\n",
      "Done computing similarity matrix.\n",
      "Computing the msd similarity matrix...\n",
      "Done computing similarity matrix.\n",
      "Computing the msd similarity matrix...\n",
      "Done computing similarity matrix.\n",
      "Computing the msd similarity matrix...\n",
      "Done computing similarity matrix.\n",
      "Computing the msd similarity matrix...\n",
      "Done computing similarity matrix.\n",
      "Computing the msd similarity matrix...\n",
      "Done computing similarity matrix.\n",
      "Computing the msd similarity matrix...\n",
      "Done computing similarity matrix.\n",
      "Computing the msd similarity matrix...\n",
      "Done computing similarity matrix.\n",
      "Computing the msd similarity matrix...\n",
      "Done computing similarity matrix.\n",
      "Computing the msd similarity matrix...\n",
      "Done computing similarity matrix.\n",
      "Computing the msd similarity matrix...\n",
      "Done computing similarity matrix.\n",
      "Computing the msd similarity matrix...\n",
      "Done computing similarity matrix.\n",
      "Computing the msd similarity matrix...\n",
      "Done computing similarity matrix.\n",
      "Computing the msd similarity matrix...\n",
      "Done computing similarity matrix.\n",
      "Computing the msd similarity matrix...\n",
      "Done computing similarity matrix.\n",
      "Computing the msd similarity matrix...\n",
      "Done computing similarity matrix.\n",
      "Computing the msd similarity matrix...\n",
      "Done computing similarity matrix.\n",
      "Computing the msd similarity matrix...\n",
      "Done computing similarity matrix.\n",
      "Computing the msd similarity matrix...\n",
      "Done computing similarity matrix.\n",
      "Computing the msd similarity matrix...\n",
      "Done computing similarity matrix.\n",
      "Computing the msd similarity matrix...\n",
      "Done computing similarity matrix.\n",
      "Computing the msd similarity matrix...\n",
      "Done computing similarity matrix.\n",
      "Computing the msd similarity matrix...\n",
      "Done computing similarity matrix.\n",
      "Computing the msd similarity matrix...\n",
      "Done computing similarity matrix.\n",
      "Computing the msd similarity matrix...\n",
      "Done computing similarity matrix.\n",
      "Computing the msd similarity matrix...\n",
      "Done computing similarity matrix.\n",
      "Computing the msd similarity matrix...\n",
      "Done computing similarity matrix.\n",
      "Computing the msd similarity matrix...\n",
      "Done computing similarity matrix.\n",
      "Computing the msd similarity matrix...\n",
      "Done computing similarity matrix.\n",
      "Computing the msd similarity matrix...\n",
      "Done computing similarity matrix.\n",
      "Computing the msd similarity matrix...\n",
      "Done computing similarity matrix.\n",
      "Computing the msd similarity matrix...\n",
      "Done computing similarity matrix.\n",
      "Computing the msd similarity matrix...\n",
      "Done computing similarity matrix.\n",
      "Computing the msd similarity matrix...\n",
      "Done computing similarity matrix.\n",
      "Computing the msd similarity matrix...\n",
      "Done computing similarity matrix.\n",
      "Computing the msd similarity matrix...\n",
      "Done computing similarity matrix.\n",
      "Computing the msd similarity matrix...\n",
      "Done computing similarity matrix.\n",
      "Computing the msd similarity matrix...\n",
      "Done computing similarity matrix.\n",
      "Computing the msd similarity matrix...\n",
      "Done computing similarity matrix.\n",
      "Computing the msd similarity matrix...\n",
      "Done computing similarity matrix.\n",
      "Computing the msd similarity matrix...\n",
      "Done computing similarity matrix.\n",
      "Computing the msd similarity matrix...\n",
      "Done computing similarity matrix.\n",
      "Computing the msd similarity matrix...\n",
      "Done computing similarity matrix.\n",
      "Computing the msd similarity matrix...\n",
      "Done computing similarity matrix.\n",
      "Computing the msd similarity matrix...\n",
      "Done computing similarity matrix.\n",
      "Computing the msd similarity matrix...\n",
      "Done computing similarity matrix.\n",
      "Computing the msd similarity matrix...\n",
      "Done computing similarity matrix.\n",
      "Computing the msd similarity matrix...\n",
      "Done computing similarity matrix.\n",
      "Computing the msd similarity matrix...\n",
      "Done computing similarity matrix.\n",
      "Computing the msd similarity matrix...\n",
      "Done computing similarity matrix.\n",
      "Computing the msd similarity matrix...\n",
      "Done computing similarity matrix.\n",
      "Computing the msd similarity matrix...\n",
      "Done computing similarity matrix.\n",
      "Computing the msd similarity matrix...\n",
      "Done computing similarity matrix.\n",
      "Computing the msd similarity matrix...\n",
      "Done computing similarity matrix.\n",
      "Computing the msd similarity matrix...\n",
      "Done computing similarity matrix.\n",
      "Computing the msd similarity matrix...\n",
      "Done computing similarity matrix.\n",
      "Computing the msd similarity matrix...\n",
      "Done computing similarity matrix.\n",
      "Computing the msd similarity matrix...\n",
      "Done computing similarity matrix.\n",
      "Computing the msd similarity matrix...\n",
      "Done computing similarity matrix.\n",
      "Computing the msd similarity matrix...\n",
      "Done computing similarity matrix.\n",
      "Computing the msd similarity matrix...\n",
      "Done computing similarity matrix.\n",
      "Computing the msd similarity matrix...\n",
      "Done computing similarity matrix.\n",
      "Computing the msd similarity matrix...\n",
      "Done computing similarity matrix.\n",
      "Computing the msd similarity matrix...\n",
      "Done computing similarity matrix.\n",
      "Computing the msd similarity matrix...\n",
      "Done computing similarity matrix.\n",
      "Computing the msd similarity matrix...\n",
      "Done computing similarity matrix.\n",
      "Computing the msd similarity matrix...\n",
      "Done computing similarity matrix.\n",
      "Computing the msd similarity matrix...\n",
      "Done computing similarity matrix.\n",
      "Computing the msd similarity matrix...\n",
      "Done computing similarity matrix.\n",
      "Computing the msd similarity matrix...\n",
      "Done computing similarity matrix.\n",
      "Computing the msd similarity matrix...\n",
      "Done computing similarity matrix.\n",
      "Computing the msd similarity matrix...\n",
      "Done computing similarity matrix.\n",
      "Computing the msd similarity matrix...\n",
      "Done computing similarity matrix.\n",
      "Computing the msd similarity matrix...\n",
      "Done computing similarity matrix.\n",
      "Computing the msd similarity matrix...\n",
      "Done computing similarity matrix.\n",
      "Computing the msd similarity matrix...\n",
      "Done computing similarity matrix.\n",
      "Computing the msd similarity matrix...\n",
      "Done computing similarity matrix.\n",
      "Computing the msd similarity matrix...\n",
      "Done computing similarity matrix.\n",
      "Computing the msd similarity matrix...\n",
      "Done computing similarity matrix.\n",
      "Computing the msd similarity matrix...\n",
      "Done computing similarity matrix.\n",
      "Computing the msd similarity matrix...\n",
      "Done computing similarity matrix.\n",
      "Computing the msd similarity matrix...\n",
      "Done computing similarity matrix.\n",
      "Computing the msd similarity matrix...\n",
      "Done computing similarity matrix.\n",
      "Computing the msd similarity matrix...\n",
      "Done computing similarity matrix.\n",
      "Computing the msd similarity matrix...\n",
      "Done computing similarity matrix.\n",
      "Computing the msd similarity matrix...\n",
      "Done computing similarity matrix.\n",
      "Computing the msd similarity matrix...\n",
      "Done computing similarity matrix.\n",
      "Computing the msd similarity matrix...\n",
      "Done computing similarity matrix.\n",
      "Computing the msd similarity matrix...\n",
      "Done computing similarity matrix.\n",
      "Computing the msd similarity matrix...\n",
      "Done computing similarity matrix.\n",
      "Computing the msd similarity matrix...\n",
      "Done computing similarity matrix.\n",
      "Computing the msd similarity matrix...\n",
      "Done computing similarity matrix.\n",
      "Computing the msd similarity matrix...\n",
      "Done computing similarity matrix.\n",
      "Computing the msd similarity matrix...\n",
      "Done computing similarity matrix.\n",
      "Computing the msd similarity matrix...\n",
      "Done computing similarity matrix.\n",
      "Computing the msd similarity matrix...\n",
      "Done computing similarity matrix.\n",
      "Computing the msd similarity matrix...\n",
      "Done computing similarity matrix.\n",
      "Computing the msd similarity matrix...\n",
      "Done computing similarity matrix.\n",
      "Computing the msd similarity matrix...\n",
      "Done computing similarity matrix.\n",
      "Computing the msd similarity matrix...\n",
      "Done computing similarity matrix.\n",
      "Computing the msd similarity matrix...\n",
      "Done computing similarity matrix.\n",
      "Computing the msd similarity matrix...\n",
      "Done computing similarity matrix.\n",
      "Computing the msd similarity matrix...\n",
      "Done computing similarity matrix.\n",
      "Computing the msd similarity matrix...\n",
      "Done computing similarity matrix.\n",
      "Computing the msd similarity matrix...\n",
      "Done computing similarity matrix.\n",
      "Computing the msd similarity matrix...\n",
      "Done computing similarity matrix.\n",
      "Computing the msd similarity matrix...\n",
      "Done computing similarity matrix.\n",
      "Computing the msd similarity matrix...\n",
      "Done computing similarity matrix.\n",
      "Computing the msd similarity matrix...\n",
      "Done computing similarity matrix.\n",
      "Computing the msd similarity matrix...\n",
      "Done computing similarity matrix.\n",
      "Computing the msd similarity matrix...\n",
      "Done computing similarity matrix.\n",
      "Computing the msd similarity matrix...\n",
      "Done computing similarity matrix.\n",
      "Computing the msd similarity matrix...\n",
      "Done computing similarity matrix.\n",
      "Computing the msd similarity matrix...\n",
      "Done computing similarity matrix.\n",
      "Computing the msd similarity matrix...\n",
      "Done computing similarity matrix.\n",
      "Computing the msd similarity matrix...\n",
      "Done computing similarity matrix.\n",
      "Computing the msd similarity matrix...\n",
      "Done computing similarity matrix.\n",
      "Computing the msd similarity matrix...\n",
      "Done computing similarity matrix.\n",
      "Computing the msd similarity matrix...\n",
      "Done computing similarity matrix.\n",
      "Computing the msd similarity matrix...\n",
      "Done computing similarity matrix.\n",
      "Computing the msd similarity matrix...\n",
      "Done computing similarity matrix.\n",
      "Computing the msd similarity matrix...\n",
      "Done computing similarity matrix.\n",
      "Computing the msd similarity matrix...\n",
      "Done computing similarity matrix.\n",
      "Computing the msd similarity matrix...\n",
      "Done computing similarity matrix.\n",
      "Computing the msd similarity matrix...\n",
      "Done computing similarity matrix.\n",
      "Computing the msd similarity matrix...\n",
      "Done computing similarity matrix.\n",
      "Computing the msd similarity matrix...\n",
      "Done computing similarity matrix.\n",
      "Computing the msd similarity matrix...\n",
      "Done computing similarity matrix.\n",
      "Computing the msd similarity matrix...\n",
      "Done computing similarity matrix.\n",
      "Computing the msd similarity matrix...\n",
      "Done computing similarity matrix.\n",
      "Computing the msd similarity matrix...\n",
      "Done computing similarity matrix.\n",
      "Computing the msd similarity matrix...\n",
      "Done computing similarity matrix.\n",
      "Computing the msd similarity matrix...\n",
      "Done computing similarity matrix.\n",
      "Computing the msd similarity matrix...\n",
      "Done computing similarity matrix.\n",
      "Computing the msd similarity matrix...\n",
      "Done computing similarity matrix.\n",
      "Computing the msd similarity matrix...\n",
      "Done computing similarity matrix.\n",
      "Computing the msd similarity matrix...\n",
      "Done computing similarity matrix.\n",
      "Computing the msd similarity matrix...\n",
      "Done computing similarity matrix.\n",
      "Computing the msd similarity matrix...\n",
      "Done computing similarity matrix.\n",
      "Computing the msd similarity matrix...\n",
      "Done computing similarity matrix.\n",
      "Computing the msd similarity matrix...\n",
      "Done computing similarity matrix.\n",
      "Computing the msd similarity matrix...\n",
      "Done computing similarity matrix.\n",
      "Computing the msd similarity matrix...\n",
      "Done computing similarity matrix.\n",
      "Computing the msd similarity matrix...\n",
      "Done computing similarity matrix.\n",
      "Computing the msd similarity matrix...\n",
      "Done computing similarity matrix.\n",
      "Computing the msd similarity matrix...\n",
      "Done computing similarity matrix.\n",
      "Computing the msd similarity matrix...\n",
      "Done computing similarity matrix.\n",
      "Computing the msd similarity matrix...\n",
      "Done computing similarity matrix.\n",
      "Computing the msd similarity matrix...\n",
      "Done computing similarity matrix.\n",
      "Computing the msd similarity matrix...\n",
      "Done computing similarity matrix.\n",
      "Computing the msd similarity matrix...\n",
      "Done computing similarity matrix.\n",
      "Computing the msd similarity matrix...\n",
      "Done computing similarity matrix.\n",
      "Computing the msd similarity matrix...\n",
      "Done computing similarity matrix.\n",
      "Computing the msd similarity matrix...\n",
      "Done computing similarity matrix.\n",
      "Computing the msd similarity matrix...\n",
      "Done computing similarity matrix.\n",
      "Computing the msd similarity matrix...\n",
      "Done computing similarity matrix.\n",
      "Computing the msd similarity matrix...\n",
      "Done computing similarity matrix.\n",
      "Computing the msd similarity matrix...\n",
      "Done computing similarity matrix.\n",
      "Computing the msd similarity matrix...\n",
      "Done computing similarity matrix.\n",
      "Computing the msd similarity matrix...\n",
      "Done computing similarity matrix.\n",
      "Computing the msd similarity matrix...\n",
      "Done computing similarity matrix.\n",
      "Computing the msd similarity matrix...\n",
      "Done computing similarity matrix.\n",
      "Computing the msd similarity matrix...\n",
      "Done computing similarity matrix.\n",
      "Computing the msd similarity matrix...\n",
      "Done computing similarity matrix.\n",
      "Computing the msd similarity matrix...\n",
      "Done computing similarity matrix.\n",
      "Computing the msd similarity matrix...\n",
      "Done computing similarity matrix.\n",
      "Computing the msd similarity matrix...\n",
      "Done computing similarity matrix.\n",
      "Computing the msd similarity matrix...\n",
      "Done computing similarity matrix.\n",
      "Computing the msd similarity matrix...\n",
      "Done computing similarity matrix.\n",
      "Computing the msd similarity matrix...\n",
      "Done computing similarity matrix.\n",
      "Computing the msd similarity matrix...\n",
      "Done computing similarity matrix.\n",
      "Computing the msd similarity matrix...\n",
      "Done computing similarity matrix.\n",
      "Computing the msd similarity matrix...\n",
      "Done computing similarity matrix.\n",
      "Computing the msd similarity matrix...\n",
      "Done computing similarity matrix.\n",
      "Computing the msd similarity matrix...\n",
      "Done computing similarity matrix.\n",
      "Computing the msd similarity matrix...\n",
      "Done computing similarity matrix.\n",
      "Computing the msd similarity matrix...\n",
      "Done computing similarity matrix.\n",
      "Computing the msd similarity matrix...\n",
      "Done computing similarity matrix.\n",
      "Computing the msd similarity matrix...\n",
      "Done computing similarity matrix.\n",
      "Computing the msd similarity matrix...\n",
      "Done computing similarity matrix.\n",
      "Computing the msd similarity matrix...\n",
      "Done computing similarity matrix.\n",
      "Computing the msd similarity matrix...\n",
      "Done computing similarity matrix.\n",
      "Computing the msd similarity matrix...\n",
      "Done computing similarity matrix.\n",
      "Computing the msd similarity matrix...\n",
      "Done computing similarity matrix.\n"
     ]
    },
    {
     "data": {
      "text/plain": [
       "{'k': 15, 'min_k': 5}"
      ]
     },
     "execution_count": 512,
     "metadata": {},
     "output_type": "execute_result"
    }
   ],
   "source": [
    "param_grid = {'k': list(range(10,45,5)),\n",
    "             'min_k' : list(range(5,11))}\n",
    "gs = GridSearchCV(KNNWithMeans, param_grid, measures=['rmse'], return_train_measures = True, cv = 5)\n",
    "gs.fit(data)\n",
    "gs.best_params['rmse']"
   ]
  },
  {
   "cell_type": "code",
   "execution_count": 513,
   "id": "e88323dc",
   "metadata": {},
   "outputs": [
    {
     "name": "stdout",
     "output_type": "stream",
     "text": [
      "RMSE on training data :  0.07868478078578814\n",
      "RMSE on test data:  0.1445835626434653\n",
      "MAE on training data :  0.049244487608713194\n",
      "MAE on test data:  0.11132607851785425\n"
     ]
    }
   ],
   "source": [
    "tuned_knn_model = KNNWithMeans(k = 40, min_k= 8,random_state = 42, user_based = True, verbose = False)\n",
    "tuned_knn_model.fit(train)\n",
    "train_predictions = tuned_knn_model.test(train.build_testset())\n",
    "test_predictions = tuned_knn_model.test(test)\n",
    "print(\"RMSE on training data : \", accuracy.rmse(train_predictions, verbose = False))\n",
    "print(\"RMSE on test data: \", accuracy.rmse(test_predictions, verbose = False))\n",
    "\n",
    "print(\"MAE on training data : \", accuracy.mae(train_predictions, verbose = False))\n",
    "print(\"MAE on test data: \", accuracy.mae(test_predictions, verbose = False))"
   ]
  },
  {
   "cell_type": "code",
   "execution_count": 514,
   "id": "9d473d1b",
   "metadata": {},
   "outputs": [
    {
     "name": "stdout",
     "output_type": "stream",
     "text": [
      "Computing the msd similarity matrix...\n",
      "Done computing similarity matrix.\n"
     ]
    },
    {
     "data": {
      "text/plain": [
       "<surprise.prediction_algorithms.knns.KNNWithMeans at 0x14f238220>"
      ]
     },
     "execution_count": 514,
     "metadata": {},
     "output_type": "execute_result"
    }
   ],
   "source": [
    "knn_model_item_based = KNNWithMeans(k = 40, min_k= 8, user_based = False, random_state = 42)\n",
    "knn_model_item_based.fit(train)"
   ]
  },
  {
   "cell_type": "code",
   "execution_count": 515,
   "id": "2ebea818",
   "metadata": {},
   "outputs": [
    {
     "name": "stdout",
     "output_type": "stream",
     "text": [
      "RMSE on training data :  0.07868478078578814\n",
      "RMSE on test data:  0.1445835626434653\n",
      "MAE on training data :  0.049244487608713194\n",
      "MAE on test data:  0.11132607851785425\n"
     ]
    }
   ],
   "source": [
    "train_predictions = knn_model_item_based.test(train.build_testset())\n",
    "test_predictions = knn_model_item_based.test(test)\n",
    "print(\"RMSE on training data : \", accuracy.rmse(train_predictions, verbose = False))\n",
    "print(\"RMSE on test data: \", accuracy.rmse(test_predictions, verbose = False))\n",
    "\n",
    "print(\"MAE on training data : \", accuracy.mae(train_predictions, verbose = False))\n",
    "print(\"MAE on test data: \", accuracy.mae(test_predictions, verbose = False))"
   ]
  },
  {
   "cell_type": "markdown",
   "id": "fc006ff6",
   "metadata": {},
   "source": [
    "# KNNWithZScore"
   ]
  },
  {
   "cell_type": "code",
   "execution_count": 516,
   "id": "f30c11e4",
   "metadata": {},
   "outputs": [
    {
     "data": {
      "text/plain": [
       "<surprise.prediction_algorithms.knns.KNNWithZScore at 0x14f03b940>"
      ]
     },
     "execution_count": 516,
     "metadata": {},
     "output_type": "execute_result"
    }
   ],
   "source": [
    "from surprise import KNNWithZScore\n",
    "knn_model = KNNWithZScore(random_state = 42,verbose = False)\n",
    "knn_model.fit(train)"
   ]
  },
  {
   "cell_type": "code",
   "execution_count": 517,
   "id": "8c991a63",
   "metadata": {},
   "outputs": [
    {
     "name": "stdout",
     "output_type": "stream",
     "text": [
      "RMSE on training data :  0.0694852695860404\n",
      "RMSE on test data:  0.14902696078344477\n"
     ]
    }
   ],
   "source": [
    "train_predictions = knn_model.test(train.build_testset())\n",
    "test_predictions = knn_model.test(test)\n",
    "print(\"RMSE on training data : \", accuracy.rmse(train_predictions, verbose = False))\n",
    "print(\"RMSE on test data: \", accuracy.rmse(test_predictions, verbose = False))"
   ]
  },
  {
   "cell_type": "code",
   "execution_count": 518,
   "id": "b64928be",
   "metadata": {},
   "outputs": [
    {
     "name": "stdout",
     "output_type": "stream",
     "text": [
      "Computing the msd similarity matrix...\n",
      "Done computing similarity matrix.\n",
      "Computing the msd similarity matrix...\n",
      "Done computing similarity matrix.\n",
      "Computing the msd similarity matrix...\n",
      "Done computing similarity matrix.\n",
      "Computing the msd similarity matrix...\n",
      "Done computing similarity matrix.\n",
      "Computing the msd similarity matrix...\n",
      "Done computing similarity matrix.\n",
      "Computing the msd similarity matrix...\n",
      "Done computing similarity matrix.\n",
      "Computing the msd similarity matrix...\n",
      "Done computing similarity matrix.\n",
      "Computing the msd similarity matrix...\n",
      "Done computing similarity matrix.\n",
      "Computing the msd similarity matrix...\n",
      "Done computing similarity matrix.\n",
      "Computing the msd similarity matrix...\n",
      "Done computing similarity matrix.\n",
      "Computing the msd similarity matrix...\n",
      "Done computing similarity matrix.\n",
      "Computing the msd similarity matrix...\n",
      "Done computing similarity matrix.\n",
      "Computing the msd similarity matrix...\n",
      "Done computing similarity matrix.\n",
      "Computing the msd similarity matrix...\n",
      "Done computing similarity matrix.\n",
      "Computing the msd similarity matrix...\n",
      "Done computing similarity matrix.\n",
      "Computing the msd similarity matrix...\n",
      "Done computing similarity matrix.\n",
      "Computing the msd similarity matrix...\n",
      "Done computing similarity matrix.\n",
      "Computing the msd similarity matrix...\n",
      "Done computing similarity matrix.\n",
      "Computing the msd similarity matrix...\n",
      "Done computing similarity matrix.\n",
      "Computing the msd similarity matrix...\n",
      "Done computing similarity matrix.\n",
      "Computing the msd similarity matrix...\n",
      "Done computing similarity matrix.\n",
      "Computing the msd similarity matrix...\n",
      "Done computing similarity matrix.\n",
      "Computing the msd similarity matrix...\n",
      "Done computing similarity matrix.\n",
      "Computing the msd similarity matrix...\n",
      "Done computing similarity matrix.\n",
      "Computing the msd similarity matrix...\n",
      "Done computing similarity matrix.\n",
      "Computing the msd similarity matrix...\n",
      "Done computing similarity matrix.\n",
      "Computing the msd similarity matrix...\n",
      "Done computing similarity matrix.\n",
      "Computing the msd similarity matrix...\n",
      "Done computing similarity matrix.\n",
      "Computing the msd similarity matrix...\n",
      "Done computing similarity matrix.\n",
      "Computing the msd similarity matrix...\n",
      "Done computing similarity matrix.\n",
      "Computing the msd similarity matrix...\n",
      "Done computing similarity matrix.\n",
      "Computing the msd similarity matrix...\n",
      "Done computing similarity matrix.\n",
      "Computing the msd similarity matrix...\n",
      "Done computing similarity matrix.\n",
      "Computing the msd similarity matrix...\n",
      "Done computing similarity matrix.\n",
      "Computing the msd similarity matrix...\n",
      "Done computing similarity matrix.\n",
      "Computing the msd similarity matrix...\n",
      "Done computing similarity matrix.\n",
      "Computing the msd similarity matrix...\n",
      "Done computing similarity matrix.\n",
      "Computing the msd similarity matrix...\n",
      "Done computing similarity matrix.\n",
      "Computing the msd similarity matrix...\n",
      "Done computing similarity matrix.\n",
      "Computing the msd similarity matrix...\n",
      "Done computing similarity matrix.\n",
      "Computing the msd similarity matrix...\n",
      "Done computing similarity matrix.\n",
      "Computing the msd similarity matrix...\n",
      "Done computing similarity matrix.\n",
      "Computing the msd similarity matrix...\n",
      "Done computing similarity matrix.\n",
      "Computing the msd similarity matrix...\n",
      "Done computing similarity matrix.\n",
      "Computing the msd similarity matrix...\n",
      "Done computing similarity matrix.\n",
      "Computing the msd similarity matrix...\n",
      "Done computing similarity matrix.\n",
      "Computing the msd similarity matrix...\n",
      "Done computing similarity matrix.\n",
      "Computing the msd similarity matrix...\n",
      "Done computing similarity matrix.\n",
      "Computing the msd similarity matrix...\n",
      "Done computing similarity matrix.\n",
      "Computing the msd similarity matrix...\n",
      "Done computing similarity matrix.\n",
      "Computing the msd similarity matrix...\n",
      "Done computing similarity matrix.\n",
      "Computing the msd similarity matrix...\n",
      "Done computing similarity matrix.\n",
      "Computing the msd similarity matrix...\n",
      "Done computing similarity matrix.\n",
      "Computing the msd similarity matrix...\n",
      "Done computing similarity matrix.\n",
      "Computing the msd similarity matrix...\n",
      "Done computing similarity matrix.\n",
      "Computing the msd similarity matrix...\n",
      "Done computing similarity matrix.\n",
      "Computing the msd similarity matrix...\n",
      "Done computing similarity matrix.\n",
      "Computing the msd similarity matrix...\n",
      "Done computing similarity matrix.\n",
      "Computing the msd similarity matrix...\n",
      "Done computing similarity matrix.\n",
      "Computing the msd similarity matrix...\n",
      "Done computing similarity matrix.\n",
      "Computing the msd similarity matrix...\n",
      "Done computing similarity matrix.\n",
      "Computing the msd similarity matrix...\n",
      "Done computing similarity matrix.\n",
      "Computing the msd similarity matrix...\n",
      "Done computing similarity matrix.\n",
      "Computing the msd similarity matrix...\n",
      "Done computing similarity matrix.\n",
      "Computing the msd similarity matrix...\n",
      "Done computing similarity matrix.\n",
      "Computing the msd similarity matrix...\n",
      "Done computing similarity matrix.\n",
      "Computing the msd similarity matrix...\n",
      "Done computing similarity matrix.\n",
      "Computing the msd similarity matrix...\n",
      "Done computing similarity matrix.\n",
      "Computing the msd similarity matrix...\n",
      "Done computing similarity matrix.\n",
      "Computing the msd similarity matrix...\n",
      "Done computing similarity matrix.\n",
      "Computing the msd similarity matrix...\n",
      "Done computing similarity matrix.\n",
      "Computing the msd similarity matrix...\n",
      "Done computing similarity matrix.\n",
      "Computing the msd similarity matrix...\n",
      "Done computing similarity matrix.\n",
      "Computing the msd similarity matrix...\n",
      "Done computing similarity matrix.\n",
      "Computing the msd similarity matrix...\n",
      "Done computing similarity matrix.\n",
      "Computing the msd similarity matrix...\n",
      "Done computing similarity matrix.\n",
      "Computing the msd similarity matrix...\n",
      "Done computing similarity matrix.\n",
      "Computing the msd similarity matrix...\n",
      "Done computing similarity matrix.\n",
      "Computing the msd similarity matrix...\n",
      "Done computing similarity matrix.\n",
      "Computing the msd similarity matrix...\n",
      "Done computing similarity matrix.\n",
      "Computing the msd similarity matrix...\n",
      "Done computing similarity matrix.\n",
      "Computing the msd similarity matrix...\n",
      "Done computing similarity matrix.\n",
      "Computing the msd similarity matrix...\n",
      "Done computing similarity matrix.\n",
      "Computing the msd similarity matrix...\n",
      "Done computing similarity matrix.\n",
      "Computing the msd similarity matrix...\n",
      "Done computing similarity matrix.\n",
      "Computing the msd similarity matrix...\n",
      "Done computing similarity matrix.\n",
      "Computing the msd similarity matrix...\n",
      "Done computing similarity matrix.\n",
      "Computing the msd similarity matrix...\n",
      "Done computing similarity matrix.\n",
      "Computing the msd similarity matrix...\n",
      "Done computing similarity matrix.\n",
      "Computing the msd similarity matrix...\n",
      "Done computing similarity matrix.\n",
      "Computing the msd similarity matrix...\n",
      "Done computing similarity matrix.\n",
      "Computing the msd similarity matrix...\n",
      "Done computing similarity matrix.\n",
      "Computing the msd similarity matrix...\n",
      "Done computing similarity matrix.\n",
      "Computing the msd similarity matrix...\n",
      "Done computing similarity matrix.\n",
      "Computing the msd similarity matrix...\n",
      "Done computing similarity matrix.\n",
      "Computing the msd similarity matrix...\n",
      "Done computing similarity matrix.\n",
      "Computing the msd similarity matrix...\n",
      "Done computing similarity matrix.\n",
      "Computing the msd similarity matrix...\n",
      "Done computing similarity matrix.\n",
      "Computing the msd similarity matrix...\n",
      "Done computing similarity matrix.\n",
      "Computing the msd similarity matrix...\n",
      "Done computing similarity matrix.\n",
      "Computing the msd similarity matrix...\n",
      "Done computing similarity matrix.\n",
      "Computing the msd similarity matrix...\n",
      "Done computing similarity matrix.\n",
      "Computing the msd similarity matrix...\n",
      "Done computing similarity matrix.\n",
      "Computing the msd similarity matrix...\n",
      "Done computing similarity matrix.\n",
      "Computing the msd similarity matrix...\n",
      "Done computing similarity matrix.\n",
      "Computing the msd similarity matrix...\n",
      "Done computing similarity matrix.\n",
      "Computing the msd similarity matrix...\n",
      "Done computing similarity matrix.\n",
      "Computing the msd similarity matrix...\n",
      "Done computing similarity matrix.\n",
      "Computing the msd similarity matrix...\n",
      "Done computing similarity matrix.\n",
      "Computing the msd similarity matrix...\n",
      "Done computing similarity matrix.\n",
      "Computing the msd similarity matrix...\n",
      "Done computing similarity matrix.\n",
      "Computing the msd similarity matrix...\n",
      "Done computing similarity matrix.\n",
      "Computing the msd similarity matrix...\n",
      "Done computing similarity matrix.\n",
      "Computing the msd similarity matrix...\n",
      "Done computing similarity matrix.\n",
      "Computing the msd similarity matrix...\n",
      "Done computing similarity matrix.\n",
      "Computing the msd similarity matrix...\n",
      "Done computing similarity matrix.\n",
      "Computing the msd similarity matrix...\n",
      "Done computing similarity matrix.\n",
      "Computing the msd similarity matrix...\n",
      "Done computing similarity matrix.\n",
      "Computing the msd similarity matrix...\n",
      "Done computing similarity matrix.\n",
      "Computing the msd similarity matrix...\n",
      "Done computing similarity matrix.\n",
      "Computing the msd similarity matrix...\n",
      "Done computing similarity matrix.\n",
      "Computing the msd similarity matrix...\n",
      "Done computing similarity matrix.\n",
      "Computing the msd similarity matrix...\n",
      "Done computing similarity matrix.\n",
      "Computing the msd similarity matrix...\n",
      "Done computing similarity matrix.\n",
      "Computing the msd similarity matrix...\n",
      "Done computing similarity matrix.\n",
      "Computing the msd similarity matrix...\n",
      "Done computing similarity matrix.\n",
      "Computing the msd similarity matrix...\n",
      "Done computing similarity matrix.\n",
      "Computing the msd similarity matrix...\n",
      "Done computing similarity matrix.\n",
      "Computing the msd similarity matrix...\n",
      "Done computing similarity matrix.\n",
      "Computing the msd similarity matrix...\n",
      "Done computing similarity matrix.\n",
      "Computing the msd similarity matrix...\n",
      "Done computing similarity matrix.\n",
      "Computing the msd similarity matrix...\n",
      "Done computing similarity matrix.\n",
      "Computing the msd similarity matrix...\n",
      "Done computing similarity matrix.\n",
      "Computing the msd similarity matrix...\n",
      "Done computing similarity matrix.\n",
      "Computing the msd similarity matrix...\n",
      "Done computing similarity matrix.\n",
      "Computing the msd similarity matrix...\n",
      "Done computing similarity matrix.\n",
      "Computing the msd similarity matrix...\n",
      "Done computing similarity matrix.\n",
      "Computing the msd similarity matrix...\n",
      "Done computing similarity matrix.\n",
      "Computing the msd similarity matrix...\n",
      "Done computing similarity matrix.\n",
      "Computing the msd similarity matrix...\n",
      "Done computing similarity matrix.\n",
      "Computing the msd similarity matrix...\n",
      "Done computing similarity matrix.\n",
      "Computing the msd similarity matrix...\n",
      "Done computing similarity matrix.\n",
      "Computing the msd similarity matrix...\n",
      "Done computing similarity matrix.\n",
      "Computing the msd similarity matrix...\n",
      "Done computing similarity matrix.\n",
      "Computing the msd similarity matrix...\n",
      "Done computing similarity matrix.\n",
      "Computing the msd similarity matrix...\n",
      "Done computing similarity matrix.\n",
      "Computing the msd similarity matrix...\n",
      "Done computing similarity matrix.\n",
      "Computing the msd similarity matrix...\n",
      "Done computing similarity matrix.\n",
      "Computing the msd similarity matrix...\n",
      "Done computing similarity matrix.\n",
      "Computing the msd similarity matrix...\n",
      "Done computing similarity matrix.\n",
      "Computing the msd similarity matrix...\n",
      "Done computing similarity matrix.\n",
      "Computing the msd similarity matrix...\n",
      "Done computing similarity matrix.\n",
      "Computing the msd similarity matrix...\n",
      "Done computing similarity matrix.\n",
      "Computing the msd similarity matrix...\n",
      "Done computing similarity matrix.\n",
      "Computing the msd similarity matrix...\n",
      "Done computing similarity matrix.\n",
      "Computing the msd similarity matrix...\n",
      "Done computing similarity matrix.\n",
      "Computing the msd similarity matrix...\n",
      "Done computing similarity matrix.\n",
      "Computing the msd similarity matrix...\n",
      "Done computing similarity matrix.\n",
      "Computing the msd similarity matrix...\n",
      "Done computing similarity matrix.\n",
      "Computing the msd similarity matrix...\n",
      "Done computing similarity matrix.\n",
      "Computing the msd similarity matrix...\n",
      "Done computing similarity matrix.\n",
      "Computing the msd similarity matrix...\n",
      "Done computing similarity matrix.\n",
      "Computing the msd similarity matrix...\n",
      "Done computing similarity matrix.\n",
      "Computing the msd similarity matrix...\n",
      "Done computing similarity matrix.\n",
      "Computing the msd similarity matrix...\n",
      "Done computing similarity matrix.\n",
      "Computing the msd similarity matrix...\n",
      "Done computing similarity matrix.\n",
      "Computing the msd similarity matrix...\n",
      "Done computing similarity matrix.\n",
      "Computing the msd similarity matrix...\n",
      "Done computing similarity matrix.\n",
      "Computing the msd similarity matrix...\n",
      "Done computing similarity matrix.\n",
      "Computing the msd similarity matrix...\n",
      "Done computing similarity matrix.\n",
      "Computing the msd similarity matrix...\n",
      "Done computing similarity matrix.\n",
      "Computing the msd similarity matrix...\n",
      "Done computing similarity matrix.\n",
      "Computing the msd similarity matrix...\n",
      "Done computing similarity matrix.\n",
      "Computing the msd similarity matrix...\n",
      "Done computing similarity matrix.\n",
      "Computing the msd similarity matrix...\n",
      "Done computing similarity matrix.\n",
      "Computing the msd similarity matrix...\n",
      "Done computing similarity matrix.\n",
      "Computing the msd similarity matrix...\n",
      "Done computing similarity matrix.\n",
      "Computing the msd similarity matrix...\n",
      "Done computing similarity matrix.\n",
      "Computing the msd similarity matrix...\n",
      "Done computing similarity matrix.\n",
      "Computing the msd similarity matrix...\n",
      "Done computing similarity matrix.\n",
      "Computing the msd similarity matrix...\n",
      "Done computing similarity matrix.\n",
      "Computing the msd similarity matrix...\n",
      "Done computing similarity matrix.\n",
      "Computing the msd similarity matrix...\n",
      "Done computing similarity matrix.\n",
      "Computing the msd similarity matrix...\n",
      "Done computing similarity matrix.\n",
      "Computing the msd similarity matrix...\n",
      "Done computing similarity matrix.\n",
      "Computing the msd similarity matrix...\n",
      "Done computing similarity matrix.\n",
      "Computing the msd similarity matrix...\n",
      "Done computing similarity matrix.\n",
      "Computing the msd similarity matrix...\n",
      "Done computing similarity matrix.\n",
      "Computing the msd similarity matrix...\n",
      "Done computing similarity matrix.\n",
      "Computing the msd similarity matrix...\n",
      "Done computing similarity matrix.\n",
      "Computing the msd similarity matrix...\n",
      "Done computing similarity matrix.\n",
      "Computing the msd similarity matrix...\n",
      "Done computing similarity matrix.\n",
      "Computing the msd similarity matrix...\n",
      "Done computing similarity matrix.\n",
      "Computing the msd similarity matrix...\n",
      "Done computing similarity matrix.\n",
      "Computing the msd similarity matrix...\n",
      "Done computing similarity matrix.\n",
      "Computing the msd similarity matrix...\n",
      "Done computing similarity matrix.\n",
      "Computing the msd similarity matrix...\n",
      "Done computing similarity matrix.\n",
      "Computing the msd similarity matrix...\n",
      "Done computing similarity matrix.\n",
      "Computing the msd similarity matrix...\n",
      "Done computing similarity matrix.\n",
      "Computing the msd similarity matrix...\n",
      "Done computing similarity matrix.\n",
      "Computing the msd similarity matrix...\n",
      "Done computing similarity matrix.\n",
      "Computing the msd similarity matrix...\n",
      "Done computing similarity matrix.\n",
      "Computing the msd similarity matrix...\n",
      "Done computing similarity matrix.\n",
      "Computing the msd similarity matrix...\n",
      "Done computing similarity matrix.\n",
      "Computing the msd similarity matrix...\n",
      "Done computing similarity matrix.\n",
      "Computing the msd similarity matrix...\n",
      "Done computing similarity matrix.\n",
      "Computing the msd similarity matrix...\n",
      "Done computing similarity matrix.\n",
      "Computing the msd similarity matrix...\n",
      "Done computing similarity matrix.\n",
      "Computing the msd similarity matrix...\n",
      "Done computing similarity matrix.\n",
      "Computing the msd similarity matrix...\n",
      "Done computing similarity matrix.\n"
     ]
    },
    {
     "data": {
      "text/plain": [
       "{'k': 10, 'min_k': 6}"
      ]
     },
     "execution_count": 518,
     "metadata": {},
     "output_type": "execute_result"
    }
   ],
   "source": [
    "param_grid = {'k': list(range(10,45,5)),\n",
    "             'min_k' : list(range(5,11))}\n",
    "gs = GridSearchCV(KNNWithZScore, param_grid, measures=['rmse'], return_train_measures = True, cv = 5)\n",
    "gs.fit(data)\n",
    "gs.best_params['rmse']"
   ]
  },
  {
   "cell_type": "code",
   "execution_count": 519,
   "id": "e2b49ff7",
   "metadata": {},
   "outputs": [
    {
     "name": "stdout",
     "output_type": "stream",
     "text": [
      "RMSE on training data :  0.07894325213796557\n",
      "RMSE on test data:  0.1454109307623831\n",
      "MAE on training data :  0.05166897206864389\n",
      "MAE on test data:  0.1122206820603592\n"
     ]
    }
   ],
   "source": [
    "tuned_knn_model = KNNWithZScore(k = 40, min_k= 7, random_state = 42, verbose = False)\n",
    "tuned_knn_model.fit(train)\n",
    "train_predictions = tuned_knn_model.test(train.build_testset())\n",
    "test_predictions = tuned_knn_model.test(test)\n",
    "print(\"RMSE on training data : \", accuracy.rmse(train_predictions, verbose = False))\n",
    "print(\"RMSE on test data: \", accuracy.rmse(test_predictions, verbose = False))\n",
    "\n",
    "print(\"MAE on training data : \", accuracy.mae(train_predictions, verbose = False))\n",
    "print(\"MAE on test data: \", accuracy.mae(test_predictions, verbose = False))"
   ]
  },
  {
   "cell_type": "code",
   "execution_count": 520,
   "id": "4bf47ce2",
   "metadata": {},
   "outputs": [
    {
     "name": "stdout",
     "output_type": "stream",
     "text": [
      "Computing the msd similarity matrix...\n",
      "Done computing similarity matrix.\n"
     ]
    },
    {
     "data": {
      "text/plain": [
       "<surprise.prediction_algorithms.knns.KNNWithZScore at 0x14f05fc40>"
      ]
     },
     "execution_count": 520,
     "metadata": {},
     "output_type": "execute_result"
    }
   ],
   "source": [
    "knn_model_item_based = KNNWithZScore(k = 10, min_k= 5, user_based = False, random_state = 42)\n",
    "knn_model_item_based.fit(train)"
   ]
  },
  {
   "cell_type": "code",
   "execution_count": 521,
   "id": "eb128004",
   "metadata": {},
   "outputs": [
    {
     "name": "stdout",
     "output_type": "stream",
     "text": [
      "RMSE on training data :  0.07354200148490012\n",
      "RMSE on test data:  0.1448900539015387\n",
      "MAE on training data :  0.048441534397693095\n",
      "MAE on test data:  0.11228075332657542\n"
     ]
    }
   ],
   "source": [
    "train_predictions = knn_model_item_based.test(train.build_testset())\n",
    "test_predictions = knn_model_item_based.test(test)\n",
    "print(\"RMSE on training data : \", accuracy.rmse(train_predictions, verbose = False))\n",
    "print(\"RMSE on test data: \", accuracy.rmse(test_predictions, verbose = False))\n",
    "\n",
    "print(\"MAE on training data : \", accuracy.mae(train_predictions, verbose = False))\n",
    "print(\"MAE on test data: \", accuracy.mae(test_predictions, verbose = False))"
   ]
  },
  {
   "cell_type": "markdown",
   "id": "602cc06c",
   "metadata": {},
   "source": [
    "# SVD"
   ]
  },
  {
   "cell_type": "code",
   "execution_count": 522,
   "id": "13aeca15",
   "metadata": {},
   "outputs": [
    {
     "data": {
      "text/plain": [
       "<surprise.prediction_algorithms.matrix_factorization.SVD at 0x14f9dd9d0>"
      ]
     },
     "execution_count": 522,
     "metadata": {},
     "output_type": "execute_result"
    }
   ],
   "source": [
    "svd_model = SVD(random_state = 42)\n",
    "svd_model.fit(train)"
   ]
  },
  {
   "cell_type": "code",
   "execution_count": 523,
   "id": "88632d18",
   "metadata": {},
   "outputs": [
    {
     "name": "stdout",
     "output_type": "stream",
     "text": [
      "RMSE on training data :  0.12503057789330999\n",
      "RMSE on test data:  0.15743844402089652\n"
     ]
    }
   ],
   "source": [
    "train_predictions = svd_model.test(train.build_testset())\n",
    "test_predictions = svd_model.test(test)\n",
    "print(\"RMSE on training data : \", accuracy.rmse(train_predictions, verbose = False))\n",
    "print(\"RMSE on test data: \", accuracy.rmse(test_predictions, verbose = False))"
   ]
  },
  {
   "cell_type": "code",
   "execution_count": 524,
   "id": "018afcb8",
   "metadata": {},
   "outputs": [
    {
     "data": {
      "text/plain": [
       "{'n_factors': 60, 'reg_all': 0.049999999999999996, 'n_epochs': 44}"
      ]
     },
     "execution_count": 524,
     "metadata": {},
     "output_type": "execute_result"
    }
   ],
   "source": [
    "param_distributions  = {'n_factors': list(range(50,160,10)),'reg_all': np.arange(0.01,0.2,0.02),'n_epochs' : list(range(1,51))}\n",
    "rs = RandomizedSearchCV(SVD, param_distributions, measures=['rmse'], return_train_measures = True, cv = 5, n_iter = 20)\n",
    "rs.fit(data)\n",
    "rs.best_params['rmse']"
   ]
  },
  {
   "cell_type": "code",
   "execution_count": 525,
   "id": "9af30925",
   "metadata": {},
   "outputs": [
    {
     "name": "stdout",
     "output_type": "stream",
     "text": [
      "RMSE on training data :  0.10005296213359215\n",
      "RMSE on test data:  0.14436013887908994\n",
      "MAE on training data :  0.07901865806508535\n",
      "MAE on test data:  0.11691466499531811\n"
     ]
    }
   ],
   "source": [
    "tuned_svd_model = SVD(n_factors=80, reg_all =0.109, n_epochs = 40, random_state = 42,verbose = False)\n",
    "tuned_svd_model.fit(train)\n",
    "train_predictions = tuned_svd_model.test(train.build_testset())\n",
    "test_predictions = tuned_svd_model.test(test)\n",
    "print(\"RMSE on training data : \", accuracy.rmse(train_predictions, verbose = False))\n",
    "print(\"RMSE on test data: \", accuracy.rmse(test_predictions, verbose = False))\n",
    "\n",
    "print(\"MAE on training data : \", accuracy.mae(train_predictions, verbose = False))\n",
    "print(\"MAE on test data: \", accuracy.mae(test_predictions, verbose = False))"
   ]
  },
  {
   "cell_type": "markdown",
   "id": "598466b4",
   "metadata": {},
   "source": [
    "# SVDpp"
   ]
  },
  {
   "cell_type": "code",
   "execution_count": 526,
   "id": "c98f2f4f",
   "metadata": {},
   "outputs": [],
   "source": [
    "from surprise import SVDpp"
   ]
  },
  {
   "cell_type": "code",
   "execution_count": 527,
   "id": "85158f95",
   "metadata": {},
   "outputs": [
    {
     "data": {
      "text/plain": [
       "<surprise.prediction_algorithms.matrix_factorization.SVDpp at 0x14f9c93d0>"
      ]
     },
     "execution_count": 527,
     "metadata": {},
     "output_type": "execute_result"
    }
   ],
   "source": [
    "svd_model = SVDpp(random_state = 42)\n",
    "svd_model.fit(train)"
   ]
  },
  {
   "cell_type": "code",
   "execution_count": 528,
   "id": "67019566",
   "metadata": {},
   "outputs": [
    {
     "name": "stdout",
     "output_type": "stream",
     "text": [
      "RMSE on training data :  0.11910031945299303\n",
      "RMSE on test data:  0.14581089619268153\n"
     ]
    }
   ],
   "source": [
    "train_predictions = svd_model.test(train.build_testset())\n",
    "test_predictions = svd_model.test(test)\n",
    "print(\"RMSE on training data : \", accuracy.rmse(train_predictions, verbose = False))\n",
    "print(\"RMSE on test data: \", accuracy.rmse(test_predictions, verbose = False))"
   ]
  },
  {
   "cell_type": "code",
   "execution_count": 529,
   "id": "aac98ffd",
   "metadata": {},
   "outputs": [
    {
     "data": {
      "text/plain": [
       "{'n_factors': 100, 'reg_all': 0.18999999999999997, 'n_epochs': 44}"
      ]
     },
     "execution_count": 529,
     "metadata": {},
     "output_type": "execute_result"
    }
   ],
   "source": [
    "param_distributions  = {'n_factors': list(range(50,160,10)),'reg_all': np.arange(0.01,0.2,0.02),'n_epochs' : list(range(1,51))}\n",
    "rs = RandomizedSearchCV(SVDpp, param_distributions, measures=['rmse'], return_train_measures = True, cv = 5, n_iter = 20)\n",
    "rs.fit(data)\n",
    "rs.best_params['rmse']"
   ]
  },
  {
   "cell_type": "code",
   "execution_count": 530,
   "id": "9cf30b03",
   "metadata": {},
   "outputs": [
    {
     "name": "stdout",
     "output_type": "stream",
     "text": [
      "RMSE on training data :  0.09085274106334702\n",
      "RMSE on test data:  0.14177702692045047\n",
      "MAE on training data :  0.07165548685319896\n",
      "MAE on test data:  0.11481252857634608\n"
     ]
    }
   ],
   "source": [
    "tuned_svd_model = SVDpp(n_factors=50, reg_all =0.15, n_epochs = 43, random_state = 42,verbose = False)\n",
    "tuned_svd_model.fit(train)\n",
    "train_predictions = tuned_svd_model.test(train.build_testset())\n",
    "test_predictions = tuned_svd_model.test(test)\n",
    "print(\"RMSE on training data : \", accuracy.rmse(train_predictions, verbose = False))\n",
    "print(\"RMSE on test data: \", accuracy.rmse(test_predictions, verbose = False))\n",
    "\n",
    "print(\"MAE on training data : \", accuracy.mae(train_predictions, verbose = False))\n",
    "print(\"MAE on test data: \", accuracy.mae(test_predictions, verbose = False))"
   ]
  },
  {
   "cell_type": "markdown",
   "id": "ea2550e0",
   "metadata": {},
   "source": [
    "# NMF"
   ]
  },
  {
   "cell_type": "code",
   "execution_count": 531,
   "id": "6d735b24",
   "metadata": {},
   "outputs": [],
   "source": [
    "from surprise import NMF"
   ]
  },
  {
   "cell_type": "code",
   "execution_count": 532,
   "id": "6a525ef1",
   "metadata": {},
   "outputs": [
    {
     "data": {
      "text/plain": [
       "<surprise.prediction_algorithms.matrix_factorization.NMF at 0x14f235ca0>"
      ]
     },
     "execution_count": 532,
     "metadata": {},
     "output_type": "execute_result"
    }
   ],
   "source": [
    "nmf_model = NMF(random_state = 42)\n",
    "nmf_model.fit(train)"
   ]
  },
  {
   "cell_type": "code",
   "execution_count": 533,
   "id": "01821c88",
   "metadata": {},
   "outputs": [
    {
     "name": "stdout",
     "output_type": "stream",
     "text": [
      "RMSE on training data :  0.07612801237778918\n",
      "RMSE on test data:  0.169488264277367\n"
     ]
    }
   ],
   "source": [
    "train_predictions = nmf_model.test(train.build_testset())\n",
    "test_predictions = nmf_model.test(test)\n",
    "print(\"RMSE on training data : \", accuracy.rmse(train_predictions, verbose = False))\n",
    "print(\"RMSE on test data: \", accuracy.rmse(test_predictions, verbose = False))"
   ]
  },
  {
   "cell_type": "code",
   "execution_count": 534,
   "id": "d0036ee9",
   "metadata": {},
   "outputs": [
    {
     "data": {
      "text/plain": [
       "[Prediction(uid=13681, iid=554, r_ui=0.8750000000000001, est=0.7899087902412941, details={'was_impossible': False}),\n",
       " Prediction(uid=13681, iid=1550, r_ui=0.9375000000000001, est=0.8712706417921001, details={'was_impossible': False}),\n",
       " Prediction(uid=13681, iid=677, r_ui=0.8958333333333334, est=0.8323143524952024, details={'was_impossible': False}),\n",
       " Prediction(uid=13681, iid=82, r_ui=0.8958333333333334, est=0.7786789917392865, details={'was_impossible': False}),\n",
       " Prediction(uid=13681, iid=83, r_ui=0.8750000000000001, est=0.776585855521228, details={'was_impossible': False})]"
      ]
     },
     "execution_count": 534,
     "metadata": {},
     "output_type": "execute_result"
    }
   ],
   "source": [
    "train_predictions[:5]"
   ]
  },
  {
   "cell_type": "code",
   "execution_count": 535,
   "id": "ef47f463",
   "metadata": {},
   "outputs": [
    {
     "data": {
      "text/plain": [
       "{'n_factors': 14, 'reg_pu': 0.05, 'reg_qi': 0.04, 'n_epochs': 24}"
      ]
     },
     "execution_count": 535,
     "metadata": {},
     "output_type": "execute_result"
    }
   ],
   "source": [
    "param_distributions  = {'n_factors': list(range(10,20,2)),'reg_pu': np.arange(0.01,0.2,0.01),'reg_qi': np.arange(0.01,0.2,0.01), 'n_epochs' : list(range(1,51))}\n",
    "rs = RandomizedSearchCV(NMF, param_distributions, measures=['rmse'], return_train_measures = True, cv = 5, n_iter = 20)\n",
    "rs.fit(data)\n",
    "rs.best_params['rmse']"
   ]
  },
  {
   "cell_type": "code",
   "execution_count": 536,
   "id": "bee75add",
   "metadata": {},
   "outputs": [
    {
     "name": "stdout",
     "output_type": "stream",
     "text": [
      "RMSE on training data :  0.1506027750673662\n",
      "RMSE on test data:  0.16239178359340567\n",
      "MAE on training data :  0.12702630868001846\n",
      "MAE on test data:  0.1277786929877165\n"
     ]
    }
   ],
   "source": [
    "#tuned_nmf_model = NMF(n_factors=18, reg_pu = 0.06, reg_qi = 0.16, n_epochs = 38, random_state = 42)\n",
    "tuned_nmf_model = NMF(n_factors=14, reg_pu=0.14, reg_qi= 0.02, n_epochs=8, random_state = 42)\n",
    "tuned_nmf_model.fit(train)\n",
    "train_predictions = tuned_nmf_model.test(train.build_testset())\n",
    "test_predictions = tuned_nmf_model.test(test)\n",
    "print(\"RMSE on training data : \", accuracy.rmse(train_predictions, verbose = False))\n",
    "print(\"RMSE on test data: \", accuracy.rmse(test_predictions, verbose = False))\n",
    "\n",
    "print(\"MAE on training data : \", accuracy.mae(train_predictions, verbose = False))\n",
    "print(\"MAE on test data: \", accuracy.mae(test_predictions, verbose = False))"
   ]
  },
  {
   "cell_type": "markdown",
   "id": "a9ec794b",
   "metadata": {},
   "source": [
    "# ----------------------------------------------------------------"
   ]
  },
  {
   "cell_type": "markdown",
   "id": "e82563a7",
   "metadata": {},
   "source": [
    "# precision recall metric"
   ]
  },
  {
   "cell_type": "code",
   "execution_count": 537,
   "id": "b23c32db",
   "metadata": {},
   "outputs": [],
   "source": [
    "userIds = []\n",
    "productIds = []\n",
    "ratings = []\n",
    "for (uid, iid, rating) in train.all_ratings():\n",
    "    userIds.append(train.to_raw_uid(uid))\n",
    "    productIds.append(train.to_raw_iid(iid))\n",
    "    ratings.append(rating)\n",
    "dict = {'userId': userIds, 'productIds': productIds, 'rating': ratings}\n",
    "training_df = pd.DataFrame(dict)"
   ]
  },
  {
   "cell_type": "code",
   "execution_count": 538,
   "id": "28ef7878",
   "metadata": {},
   "outputs": [
    {
     "data": {
      "text/plain": [
       "userId\n",
       "4         0.732639\n",
       "43        0.888889\n",
       "48        0.758333\n",
       "931       0.583333\n",
       "2839      0.895833\n",
       "            ...   \n",
       "123506    0.847222\n",
       "123511    0.781250\n",
       "123857    1.000000\n",
       "123919    0.916667\n",
       "124246    0.625000\n",
       "Name: rating, Length: 822, dtype: float64"
      ]
     },
     "execution_count": 538,
     "metadata": {},
     "output_type": "execute_result"
    }
   ],
   "source": [
    "user_averages = training_df.groupby(\"userId\")[\"rating\"].mean()\n",
    "user_averages"
   ]
  },
  {
   "cell_type": "code",
   "execution_count": 539,
   "id": "21362dde",
   "metadata": {},
   "outputs": [],
   "source": [
    "train_actual_labels = []\n",
    "train_predicted_labels = []\n",
    "for uid, iid, r_ui, est, _ in train_predictions:\n",
    "    if((r_ui - user_averages[uid])>0):\n",
    "        train_actual_labels.append(\"Yes\")\n",
    "    else:\n",
    "        train_actual_labels.append(\"No\")\n",
    "    if((est - user_averages[uid])>0):\n",
    "        train_predicted_labels.append(\"Yes\")\n",
    "    else:\n",
    "        train_predicted_labels.append(\"No\")"
   ]
  },
  {
   "cell_type": "code",
   "execution_count": 540,
   "id": "515fdd36",
   "metadata": {},
   "outputs": [
    {
     "name": "stdout",
     "output_type": "stream",
     "text": [
      "Training data distribution of liked movies derived from actual ratings\n",
      "No     1025\n",
      "Yes     445\n",
      "dtype: int64\n",
      "\n",
      "Training data distribution of liked movies derived from predicted ratings\n",
      "Yes    1329\n",
      "No      141\n",
      "dtype: int64\n"
     ]
    }
   ],
   "source": [
    "print(\"Training data distribution of liked movies derived from actual ratings\")\n",
    "print(pd.Series(train_actual_labels).value_counts())\n",
    "print(\"\\nTraining data distribution of liked movies derived from predicted ratings\")\n",
    "print(pd.Series(train_predicted_labels).value_counts())"
   ]
  },
  {
   "cell_type": "code",
   "execution_count": 541,
   "id": "750b2186",
   "metadata": {},
   "outputs": [
    {
     "data": {
      "text/plain": [
       "userId\n",
       "4         0.732639\n",
       "43        0.888889\n",
       "48        0.758333\n",
       "931       0.583333\n",
       "2839      0.895833\n",
       "            ...   \n",
       "123506    0.847222\n",
       "123511    0.781250\n",
       "123857    1.000000\n",
       "123919    0.916667\n",
       "124246    0.625000\n",
       "Name: rating, Length: 822, dtype: float64"
      ]
     },
     "execution_count": 541,
     "metadata": {},
     "output_type": "execute_result"
    }
   ],
   "source": [
    "user_averages = training_df.groupby(\"userId\")[\"rating\"].mean()\n",
    "user_averages"
   ]
  },
  {
   "cell_type": "code",
   "execution_count": 542,
   "id": "031da7a4",
   "metadata": {},
   "outputs": [],
   "source": [
    "# test"
   ]
  },
  {
   "cell_type": "code",
   "execution_count": 543,
   "id": "4aade6c2",
   "metadata": {},
   "outputs": [],
   "source": [
    "test_actual_labels = []\n",
    "test_predicted_labels = []\n",
    "\n",
    "for uid, iid, r_ui, est, _ in test_predictions:\n",
    "    if uid in user_averages: \n",
    "        if((r_ui - user_averages[uid])>0):\n",
    "            test_actual_labels.append(\"Yes\")\n",
    "        else:\n",
    "            test_actual_labels.append(\"No\")\n",
    "        if((est - user_averages[uid])>0):\n",
    "            test_predicted_labels.append(\"Yes\")\n",
    "        else:\n",
    "            test_predicted_labels.append(\"No\") "
   ]
  },
  {
   "cell_type": "code",
   "execution_count": 544,
   "id": "0d3c38c8",
   "metadata": {},
   "outputs": [
    {
     "name": "stdout",
     "output_type": "stream",
     "text": [
      "Test data distribution of liked movies derived from actual ratings\n",
      "Yes    151\n",
      "No     147\n",
      "dtype: int64\n",
      "\n",
      "Test data distribution of liked movies derived from predicted ratings\n",
      "Yes    226\n",
      "No      72\n",
      "dtype: int64\n"
     ]
    }
   ],
   "source": [
    "print(\"Test data distribution of liked movies derived from actual ratings\")\n",
    "print(pd.Series(test_actual_labels).value_counts())\n",
    "print(\"\\nTest data distribution of liked movies derived from predicted ratings\")\n",
    "print(pd.Series(test_predicted_labels).value_counts())"
   ]
  },
  {
   "cell_type": "code",
   "execution_count": 545,
   "id": "c46f62e3",
   "metadata": {},
   "outputs": [
    {
     "name": "stdout",
     "output_type": "stream",
     "text": [
      "Confusion matrix on test data\n"
     ]
    },
    {
     "data": {
      "text/plain": [
       "array([[ 49,  98],\n",
       "       [ 23, 128]])"
      ]
     },
     "execution_count": 545,
     "metadata": {},
     "output_type": "execute_result"
    }
   ],
   "source": [
    "print(\"Confusion matrix on test data\")\n",
    "confusion_matrix(test_actual_labels,test_predicted_labels)"
   ]
  },
  {
   "cell_type": "code",
   "execution_count": 546,
   "id": "084298ac",
   "metadata": {},
   "outputs": [
    {
     "name": "stdout",
     "output_type": "stream",
     "text": [
      "Training data precision :  0.33483822422874343\n",
      "Test data precision :  0.5663716814159292\n"
     ]
    }
   ],
   "source": [
    "print(\"Training data precision : \", precision_score(train_actual_labels,train_predicted_labels,pos_label=\"Yes\"))\n",
    "print(\"Test data precision : \", precision_score(test_actual_labels,test_predicted_labels,pos_label=\"Yes\"))"
   ]
  },
  {
   "cell_type": "code",
   "execution_count": 547,
   "id": "e8c19631",
   "metadata": {},
   "outputs": [
    {
     "name": "stdout",
     "output_type": "stream",
     "text": [
      "Training data recall :  1.0\n",
      "Test data recall :  0.847682119205298\n"
     ]
    }
   ],
   "source": [
    "print(\"Training data recall : \", recall_score(train_actual_labels,train_predicted_labels,pos_label=\"Yes\"))\n",
    "print(\"Test data recall : \", recall_score(test_actual_labels,test_predicted_labels,pos_label=\"Yes\"))"
   ]
  },
  {
   "cell_type": "code",
   "execution_count": 548,
   "id": "9982e485",
   "metadata": {},
   "outputs": [
    {
     "name": "stdout",
     "output_type": "stream",
     "text": [
      "==================== Classification Report ====================\n",
      "              precision    recall  f1-score   support\n",
      "\n",
      "          No       0.68      0.33      0.45       147\n",
      "         Yes       0.57      0.85      0.68       151\n",
      "\n",
      "    accuracy                           0.59       298\n",
      "   macro avg       0.62      0.59      0.56       298\n",
      "weighted avg       0.62      0.59      0.56       298\n",
      "\n"
     ]
    }
   ],
   "source": [
    "print(\"=\"*20, \"Classification Report\", \"=\"*20)\n",
    "print(classification_report(test_actual_labels,test_predicted_labels))"
   ]
  },
  {
   "cell_type": "code",
   "execution_count": null,
   "id": "3f3c8b41",
   "metadata": {},
   "outputs": [],
   "source": []
  }
 ],
 "metadata": {
  "kernelspec": {
   "display_name": "Python 3",
   "language": "python",
   "name": "python3"
  },
  "language_info": {
   "codemirror_mode": {
    "name": "ipython",
    "version": 3
   },
   "file_extension": ".py",
   "mimetype": "text/x-python",
   "name": "python",
   "nbconvert_exporter": "python",
   "pygments_lexer": "ipython3",
   "version": "3.9.5"
  }
 },
 "nbformat": 4,
 "nbformat_minor": 5
}
