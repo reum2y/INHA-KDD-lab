{
 "cells": [
  {
   "cell_type": "markdown",
   "id": "7444b19e",
   "metadata": {},
   "source": [
    "# Als로 돌리는 파일 \n",
    "* 이 코드 돌릴땐 scaled_r(정규화된 통합데이터), scaled_not(정규화된 explicit데이터)으로 돌리기"
   ]
  },
  {
   "cell_type": "code",
   "execution_count": 164,
   "id": "e2e6f0c5",
   "metadata": {},
   "outputs": [
    {
     "data": {
      "text/html": [
       "<div>\n",
       "<style scoped>\n",
       "    .dataframe tbody tr th:only-of-type {\n",
       "        vertical-align: middle;\n",
       "    }\n",
       "\n",
       "    .dataframe tbody tr th {\n",
       "        vertical-align: top;\n",
       "    }\n",
       "\n",
       "    .dataframe thead th {\n",
       "        text-align: right;\n",
       "    }\n",
       "</style>\n",
       "<table border=\"1\" class=\"dataframe\">\n",
       "  <thead>\n",
       "    <tr style=\"text-align: right;\">\n",
       "      <th></th>\n",
       "      <th>_c0</th>\n",
       "      <th>user_id</th>\n",
       "      <th>product_id</th>\n",
       "      <th>rating</th>\n",
       "    </tr>\n",
       "  </thead>\n",
       "  <tbody>\n",
       "    <tr>\n",
       "      <th>0</th>\n",
       "      <td>0</td>\n",
       "      <td>4</td>\n",
       "      <td>72</td>\n",
       "      <td>0.666667</td>\n",
       "    </tr>\n",
       "    <tr>\n",
       "      <th>1</th>\n",
       "      <td>1</td>\n",
       "      <td>4</td>\n",
       "      <td>69</td>\n",
       "      <td>0.666667</td>\n",
       "    </tr>\n",
       "    <tr>\n",
       "      <th>2</th>\n",
       "      <td>2</td>\n",
       "      <td>938</td>\n",
       "      <td>71</td>\n",
       "      <td>0.666667</td>\n",
       "    </tr>\n",
       "  </tbody>\n",
       "</table>\n",
       "</div>"
      ],
      "text/plain": [
       "   _c0  user_id  product_id    rating\n",
       "0    0        4          72  0.666667\n",
       "1    1        4          69  0.666667\n",
       "2    2      938          71  0.666667"
      ]
     },
     "execution_count": 164,
     "metadata": {},
     "output_type": "execute_result"
    }
   ],
   "source": [
    "import sklearn\n",
    "import random \n",
    "\n",
    "# Pyspark Library #\n",
    "# SQL\n",
    "from pyspark.sql import SparkSession\n",
    "from pyspark.sql import SQLContext\n",
    "from pyspark.sql.functions import mean, col, split, regexp_extract, when, lit\n",
    "# ML\n",
    "from pyspark.ml import Pipeline\n",
    "from pyspark.ml.feature import StringIndexer, VectorAssembler, IndexToString\n",
    "from pyspark.ml.feature import QuantileDiscretizer\n",
    "from pyspark.ml.evaluation import MulticlassClassificationEvaluator\n",
    "\n",
    "import os\n",
    "import pandas as pd\n",
    "import numpy as np\n",
    "os.chdir('/Users/duduuman/Documents/last/')\n",
    "\n",
    "# 스파크 세션 만들기\n",
    "spark = SparkSession\\\n",
    "        .builder\\\n",
    "        .appName('als')\\\n",
    "        .getOrCreate()\n",
    "\n",
    "df = spark.read.csv(os.getcwd() + '/scaled_r.csv',\n",
    "                   inferSchema=True, header=True)\n",
    "df.limit(3).toPandas()"
   ]
  },
  {
   "cell_type": "code",
   "execution_count": 165,
   "id": "bdbd8a78",
   "metadata": {},
   "outputs": [
    {
     "data": {
      "text/plain": [
       "Column<'rating'>"
      ]
     },
     "execution_count": 165,
     "metadata": {},
     "output_type": "execute_result"
    }
   ],
   "source": [
    "df = df[['user_id', 'product_id', 'rating']] \n",
    "df['rating'] "
   ]
  },
  {
   "cell_type": "code",
   "execution_count": 182,
   "id": "ba881995",
   "metadata": {},
   "outputs": [
    {
     "data": {
      "text/html": [
       "<div>\n",
       "<style scoped>\n",
       "    .dataframe tbody tr th:only-of-type {\n",
       "        vertical-align: middle;\n",
       "    }\n",
       "\n",
       "    .dataframe tbody tr th {\n",
       "        vertical-align: top;\n",
       "    }\n",
       "\n",
       "    .dataframe thead th {\n",
       "        text-align: right;\n",
       "    }\n",
       "</style>\n",
       "<table border=\"1\" class=\"dataframe\">\n",
       "  <thead>\n",
       "    <tr style=\"text-align: right;\">\n",
       "      <th></th>\n",
       "      <th>user_id</th>\n",
       "      <th>product_id</th>\n",
       "      <th>rating</th>\n",
       "      <th>prediction</th>\n",
       "    </tr>\n",
       "  </thead>\n",
       "  <tbody>\n",
       "    <tr>\n",
       "      <th>0</th>\n",
       "      <td>14832</td>\n",
       "      <td>57</td>\n",
       "      <td>0.333333</td>\n",
       "      <td>0.409758</td>\n",
       "    </tr>\n",
       "    <tr>\n",
       "      <th>1</th>\n",
       "      <td>28146</td>\n",
       "      <td>164</td>\n",
       "      <td>0.666667</td>\n",
       "      <td>0.456597</td>\n",
       "    </tr>\n",
       "    <tr>\n",
       "      <th>2</th>\n",
       "      <td>32855</td>\n",
       "      <td>127</td>\n",
       "      <td>0.333333</td>\n",
       "      <td>0.540217</td>\n",
       "    </tr>\n",
       "    <tr>\n",
       "      <th>3</th>\n",
       "      <td>32855</td>\n",
       "      <td>134</td>\n",
       "      <td>0.666667</td>\n",
       "      <td>0.590608</td>\n",
       "    </tr>\n",
       "    <tr>\n",
       "      <th>4</th>\n",
       "      <td>32855</td>\n",
       "      <td>217</td>\n",
       "      <td>0.666667</td>\n",
       "      <td>0.660398</td>\n",
       "    </tr>\n",
       "  </tbody>\n",
       "</table>\n",
       "</div>"
      ],
      "text/plain": [
       "   user_id  product_id    rating  prediction\n",
       "0    14832          57  0.333333    0.409758\n",
       "1    28146         164  0.666667    0.456597\n",
       "2    32855         127  0.333333    0.540217\n",
       "3    32855         134  0.666667    0.590608\n",
       "4    32855         217  0.666667    0.660398"
      ]
     },
     "execution_count": 182,
     "metadata": {},
     "output_type": "execute_result"
    }
   ],
   "source": [
    "# ALS recommender algorithm\n",
    "from pyspark.ml.recommendation import ALS\n",
    "\n",
    "train, test = df.randomSplit([0.75, 0.25])\n",
    "\n",
    "rec = ALS(maxIter=10,\n",
    "         regParam=0.01,\n",
    "         userCol='user_id',\n",
    "         itemCol='product_id',\n",
    "         ratingCol='rating', # label -> predict할 때는 필요 없음!\n",
    "         nonnegative=True,\n",
    "         numUserBlocks=10,\n",
    "         numItemBlocks=10, \n",
    "         alpha = 10000,\n",
    "         coldStartStrategy='drop')\n",
    "# ALS모델 학습 -> dataframe을 넣어주기\n",
    "rec_model = rec.fit(train)\n",
    "\n",
    "# transform을 이용해 예측 -> dataframe을 넣어주기\n",
    "pred_ratings = rec_model.transform(test)\n",
    "pred_ratings.limit(5).toPandas()"
   ]
  },
  {
   "cell_type": "code",
   "execution_count": 183,
   "id": "49934357",
   "metadata": {},
   "outputs": [
    {
     "name": "stdout",
     "output_type": "stream",
     "text": [
      "RMSE: 0.18036382382920535\n",
      "MAE: 0.14134375887471412\n"
     ]
    }
   ],
   "source": [
    "# Get metric for training\n",
    "from pyspark.ml.evaluation import RegressionEvaluator\n",
    "\n",
    "evaluator = RegressionEvaluator(labelCol='rating',\n",
    "                               predictionCol='prediction',\n",
    "                               metricName='rmse')\n",
    "# evaluate 메소드에 예측값 담겨있는 dataframe 넣어주기\n",
    "rmse = evaluator.evaluate(pred_ratings)\n",
    "\n",
    "mae_eval = RegressionEvaluator(labelCol='rating',\n",
    "                              predictionCol='prediction',\n",
    "                              metricName='mae')\n",
    "mae = mae_eval.evaluate(pred_ratings)\n",
    "\n",
    "print(\"RMSE:\", rmse)\n",
    "print(\"MAE:\", mae)"
   ]
  },
  {
   "cell_type": "code",
   "execution_count": null,
   "id": "92bc6d34",
   "metadata": {},
   "outputs": [],
   "source": []
  }
 ],
 "metadata": {
  "kernelspec": {
   "display_name": "Python 3",
   "language": "python",
   "name": "python3"
  },
  "language_info": {
   "codemirror_mode": {
    "name": "ipython",
    "version": 3
   },
   "file_extension": ".py",
   "mimetype": "text/x-python",
   "name": "python",
   "nbconvert_exporter": "python",
   "pygments_lexer": "ipython3",
   "version": "3.8.6"
  }
 },
 "nbformat": 4,
 "nbformat_minor": 5
}
