{
 "cells": [
  {
   "cell_type": "markdown",
   "id": "af3ee162",
   "metadata": {},
   "source": [
    "# 통합 데이터 surprise로 돌리는 파일"
   ]
  },
  {
   "cell_type": "code",
   "execution_count": 1,
   "id": "4b711302",
   "metadata": {},
   "outputs": [],
   "source": [
    "import numpy as np \n",
    "import pandas as pd\n",
    "import matplotlib.pyplot as plt\n",
    "import seaborn as sns\n",
    "from sklearn.preprocessing import MinMaxScaler\n",
    "\n",
    "from surprise import Dataset \n",
    "from surprise import Reader\n",
    "from surprise.model_selection import train_test_split\n",
    "from surprise import accuracy\n",
    "from surprise.model_selection import GridSearchCV,RandomizedSearchCV\n",
    "from sklearn.metrics import confusion_matrix, precision_score, recall_score,classification_report"
   ]
  },
  {
   "cell_type": "code",
   "execution_count": 2,
   "id": "7e2649a7",
   "metadata": {},
   "outputs": [
    {
     "data": {
      "text/plain": [
       "0.333333    25519\n",
       "0.666667    19915\n",
       "1.000000      282\n",
       "Name: rating, dtype: int64"
      ]
     },
     "execution_count": 2,
     "metadata": {},
     "output_type": "execute_result"
    }
   ],
   "source": [
    "import pandas as pd\n",
    "from surprise import Dataset, Reader\n",
    "from surprise import accuracy\n",
    "from surprise.model_selection import train_test_split\n",
    "\n",
    "ratings = pd.read_csv('r.csv')\n",
    "ratings = ratings[['user_id','product_id','rating']]\n",
    "ratings = ratings.astype('int')\n",
    "ratings['rating'] *= 1/3\n",
    "\n",
    "\n",
    "# rating_0=ratings[ratings['rating']==0].index\n",
    "# ratings=ratings.drop(rating_0)\n",
    "\n",
    "ratings['rating'].value_counts()"
   ]
  },
  {
   "cell_type": "code",
   "execution_count": 3,
   "id": "0048708f",
   "metadata": {},
   "outputs": [],
   "source": [
    "ratings.to_csv('scaled_r.csv')"
   ]
  },
  {
   "cell_type": "code",
   "execution_count": 417,
   "id": "63998fb6",
   "metadata": {},
   "outputs": [],
   "source": [
    "# scaler = MinMaxScaler()\n",
    "# scaled = scaler.fit_transform(ratings['rating'].values.reshape(-1,1))\n",
    "# ratings.insert(0, 'scaled', scaled)\n",
    "# ratings.drop(['rating'], axis=1, inplace=True)\n",
    "# ratings=ratings[[\"user_id\",'product_id','scaled']]\n",
    "# ratings.rename(columns={'scaled':'rating'}, inplace=True)\n",
    "# ratings"
   ]
  },
  {
   "cell_type": "code",
   "execution_count": 4,
   "id": "9a5025bf",
   "metadata": {},
   "outputs": [],
   "source": [
    "reader = Reader(rating_scale=(0.0, 1.0))\n",
    "\n",
    "# load_from_df사용해서 데이터프레임을 데이터셋으로 로드\n",
    "# 인자에 userid-itemid-ratings 변수들이 포함된 데이터프레임형태로 넣어주면 됨!\n",
    "data = Dataset.load_from_df(ratings[['user_id','product_id','rating']],\n",
    "                           reader=reader)\n",
    "train, test = train_test_split(data, test_size=0.25, random_state=42)"
   ]
  },
  {
   "cell_type": "code",
   "execution_count": 5,
   "id": "31e7ac48",
   "metadata": {},
   "outputs": [
    {
     "data": {
      "text/plain": [
       "0.333333    25519\n",
       "0.666667    19915\n",
       "1.000000      282\n",
       "Name: rating, dtype: int64"
      ]
     },
     "execution_count": 5,
     "metadata": {},
     "output_type": "execute_result"
    }
   ],
   "source": [
    "ratings['rating'].value_counts()"
   ]
  },
  {
   "cell_type": "code",
   "execution_count": 6,
   "id": "e8f3bdf5",
   "metadata": {},
   "outputs": [
    {
     "data": {
      "text/plain": [
       "<surprise.prediction_algorithms.matrix_factorization.SVD at 0x17050a670>"
      ]
     },
     "execution_count": 6,
     "metadata": {},
     "output_type": "execute_result"
    }
   ],
   "source": [
    "from surprise import SVD\n",
    "algo = SVD()\n",
    "algo.fit(train)"
   ]
  },
  {
   "cell_type": "code",
   "execution_count": 7,
   "id": "d08bf60d",
   "metadata": {},
   "outputs": [
    {
     "name": "stdout",
     "output_type": "stream",
     "text": [
      "prediction type:  <class 'list'> size:  11429\n",
      "\n",
      "prediction 결과값 5개 미리보기\n",
      "[Prediction(uid=20160, iid=86, r_ui=0.6666666666666666, est=0.6443042671403483, details={'was_impossible': False}), Prediction(uid=76604, iid=684, r_ui=0.3333333333333333, est=0.4647043677575259, details={'was_impossible': False}), Prediction(uid=96692, iid=155, r_ui=0.3333333333333333, est=0.5939496969168802, details={'was_impossible': False}), Prediction(uid=104028, iid=1371, r_ui=0.3333333333333333, est=0.5628027813070954, details={'was_impossible': False}), Prediction(uid=91839, iid=490, r_ui=0.3333333333333333, est=0.40415950748862384, details={'was_impossible': False})]\n"
     ]
    }
   ],
   "source": [
    "prediction = algo.test(test)\n",
    "print('prediction type: ', type(prediction),\n",
    "     'size: ', len(prediction))\n",
    "print()\n",
    "print('prediction 결과값 5개 미리보기')\n",
    "print(prediction[:5])"
   ]
  },
  {
   "cell_type": "code",
   "execution_count": 8,
   "id": "bb91aec5",
   "metadata": {},
   "outputs": [
    {
     "name": "stdout",
     "output_type": "stream",
     "text": [
      "[(20160, 86, 0.6443042671403483), (76604, 684, 0.4647043677575259), (96692, 155, 0.5939496969168802), (104028, 1371, 0.5628027813070954), (91839, 490, 0.40415950748862384)]\n"
     ]
    }
   ],
   "source": [
    "# user id, item id, 예측평점값들만 추출해서 하나의 튜플로 담겨있도록 하기\n",
    "result = [(pred.uid, pred.iid, pred.est) for pred in prediction[:5]]\n",
    "print(result)"
   ]
  },
  {
   "cell_type": "code",
   "execution_count": 9,
   "id": "ac492982",
   "metadata": {},
   "outputs": [
    {
     "name": "stdout",
     "output_type": "stream",
     "text": [
      "user: 79         item: 3          r_ui = None   est = 0.48   {'was_impossible': False}\n"
     ]
    }
   ],
   "source": [
    "# 개별 데이터에 대한 예측값 반환을 위해서 predict() 사용\n",
    "# user id, item id는 문자열로 되어있기 때문에 문자열로 넣어주어야 함!\n",
    "uid = str(79)\n",
    "iid = str(3)\n",
    "# 변수 순서 지켜주어서 넣어주어야 함!\n",
    "pred = algo.predict(uid, iid)\n",
    "print(pred)"
   ]
  },
  {
   "cell_type": "code",
   "execution_count": 10,
   "id": "98ae243f",
   "metadata": {},
   "outputs": [
    {
     "name": "stdout",
     "output_type": "stream",
     "text": [
      "RMSE: 0.1529\n"
     ]
    },
    {
     "data": {
      "text/plain": [
       "0.15289881488761656"
      ]
     },
     "execution_count": 10,
     "metadata": {},
     "output_type": "execute_result"
    }
   ],
   "source": [
    "predictions = algo.test(test)\n",
    "accuracy.rmse(predictions)"
   ]
  },
  {
   "cell_type": "code",
   "execution_count": 11,
   "id": "535d1225",
   "metadata": {},
   "outputs": [
    {
     "name": "stdout",
     "output_type": "stream",
     "text": [
      "Evaluating RMSE, MAE of algorithm SVD on 5 split(s).\n",
      "\n",
      "                  Fold 1  Fold 2  Fold 3  Fold 4  Fold 5  Mean    Std     \n",
      "RMSE (testset)    0.1465  0.1463  0.1467  0.1467  0.1473  0.1467  0.0003  \n",
      "MAE (testset)     0.1208  0.1214  0.1218  0.1209  0.1209  0.1211  0.0004  \n",
      "Fit time          0.73    0.74    0.75    0.75    0.75    0.74    0.01    \n",
      "Test time         0.06    0.02    0.02    0.06    0.03    0.04    0.02    \n"
     ]
    },
    {
     "data": {
      "text/plain": [
       "{'test_rmse': array([0.1465231 , 0.14634635, 0.14672057, 0.14666725, 0.14726632]),\n",
       " 'test_mae': array([0.12083104, 0.1214034 , 0.12176132, 0.12086041, 0.12085193]),\n",
       " 'fit_time': (0.7312629222869873,\n",
       "  0.7425968647003174,\n",
       "  0.7486059665679932,\n",
       "  0.7527999877929688,\n",
       "  0.7467079162597656),\n",
       " 'test_time': (0.06352996826171875,\n",
       "  0.02398395538330078,\n",
       "  0.024463891983032227,\n",
       "  0.06319427490234375,\n",
       "  0.02537703514099121)}"
      ]
     },
     "execution_count": 11,
     "metadata": {},
     "output_type": "execute_result"
    }
   ],
   "source": [
    "from surprise.model_selection import cross_validate\n",
    "\n",
    "algo = SVD(n_factors=50, random_state=42)\n",
    "# cross_validate에는 파라미터를 입력시켜 놓은 모델을 인자로 넣어주자!\n",
    "cross_validate(algo, data, measures=['RMSE','MAE'], cv=5,\n",
    "              verbose=True)"
   ]
  },
  {
   "cell_type": "code",
   "execution_count": 12,
   "id": "6a9c7549",
   "metadata": {},
   "outputs": [
    {
     "name": "stderr",
     "output_type": "stream",
     "text": [
      "/Users/duduuman/miniforge3/envs/tf/lib/python3.8/site-packages/seaborn/_decorators.py:36: FutureWarning: Pass the following variable as a keyword arg: x. From version 0.12, the only valid positional argument will be `data`, and passing other arguments without an explicit keyword will result in an error or misinterpretation.\n",
      "  warnings.warn(\n"
     ]
    },
    {
     "data": {
      "text/plain": [
       "Text(0, 0.5, 'Total number of ratings')"
      ]
     },
     "execution_count": 12,
     "metadata": {},
     "output_type": "execute_result"
    },
    {
     "data": {
      "image/png": "[encoded data removed]",
      "text/plain": [
       "<Figure size 864x576 with 1 Axes>"
      ]
     },
     "metadata": {
      "needs_background": "light"
     },
     "output_type": "display_data"
    }
   ],
   "source": [
    "fig, ax = plt.subplots(figsize=(12,8))\n",
    "ax.set_title('Ratings distribution', fontsize=15)\n",
    "sns.countplot(ratings['rating'])\n",
    "ax.set_xlabel(\"ratings in interval\")\n",
    "ax.set_ylabel(\"Total number of ratings\")"
   ]
  },
  {
   "cell_type": "code",
   "execution_count": 13,
   "id": "04bd7189",
   "metadata": {},
   "outputs": [
    {
     "name": "stdout",
     "output_type": "stream",
     "text": [
      "Size of trainset:  34287\n",
      "Size of testset:  11429\n"
     ]
    }
   ],
   "source": [
    "print(\"Size of trainset: \", train.n_ratings)\n",
    "print(\"Size of testset: \", len(test))"
   ]
  },
  {
   "cell_type": "code",
   "execution_count": 428,
   "id": "eb9699cf",
   "metadata": {},
   "outputs": [],
   "source": [
    "# from surprise import BaselineOnly"
   ]
  },
  {
   "cell_type": "code",
   "execution_count": 429,
   "id": "cba437de",
   "metadata": {},
   "outputs": [
    {
     "data": {
      "text/plain": [
       "<surprise.prediction_algorithms.baseline_only.BaselineOnly at 0x12fcd2f70>"
      ]
     },
     "execution_count": 429,
     "metadata": {},
     "output_type": "execute_result"
    }
   ],
   "source": [
    "# baseline_model = BaselineOnly(verbose = False)\n",
    "# baseline_model.fit(train)"
   ]
  },
  {
   "cell_type": "code",
   "execution_count": 430,
   "id": "60a57009",
   "metadata": {},
   "outputs": [
    {
     "name": "stdout",
     "output_type": "stream",
     "text": [
      "RMSE on training data :  0.13312259229339723\n",
      "RMSE on test data:  0.14153040999036107\n"
     ]
    }
   ],
   "source": [
    "# train_predictions = baseline_model.test(train.build_testset())\n",
    "# test_predictions = baseline_model.test(test)\n",
    "# print(\"RMSE on training data : \", accuracy.rmse(train_predictions,verbose = False))\n",
    "# print(\"RMSE on test data: \", accuracy.rmse(test_predictions,verbose = False))"
   ]
  },
  {
   "cell_type": "markdown",
   "id": "87040289",
   "metadata": {},
   "source": [
    "# KNNWithMeans"
   ]
  },
  {
   "cell_type": "code",
   "execution_count": 17,
   "id": "a042b82e",
   "metadata": {},
   "outputs": [
    {
     "data": {
      "text/plain": [
       "<surprise.prediction_algorithms.knns.KNNWithMeans at 0x121241c10>"
      ]
     },
     "execution_count": 17,
     "metadata": {},
     "output_type": "execute_result"
    }
   ],
   "source": [
    "from surprise import KNNWithMeans\n",
    "knn_model = KNNWithMeans(random_state = 42,verbose = False)\n",
    "knn_model.fit(train)"
   ]
  },
  {
   "cell_type": "code",
   "execution_count": 18,
   "id": "c881067c",
   "metadata": {},
   "outputs": [
    {
     "name": "stdout",
     "output_type": "stream",
     "text": [
      "RMSE on training data :  0.0938207349570537\n",
      "RMSE on test data:  0.15374585729708198\n"
     ]
    }
   ],
   "source": [
    "train_predictions = knn_model.test(train.build_testset())\n",
    "test_predictions = knn_model.test(test)\n",
    "print(\"RMSE on training data : \", accuracy.rmse(train_predictions, verbose = False))\n",
    "print(\"RMSE on test data: \", accuracy.rmse(test_predictions, verbose = False))"
   ]
  },
  {
   "cell_type": "code",
   "execution_count": 19,
   "id": "0d057218",
   "metadata": {
    "collapsed": true,
    "jupyter": {
     "outputs_hidden": true
    }
   },
   "outputs": [
    {
     "name": "stdout",
     "output_type": "stream",
     "text": [
      "Computing the msd similarity matrix...\n",
      "Done computing similarity matrix.\n",
      "Computing the msd similarity matrix...\n",
      "Done computing similarity matrix.\n",
      "Computing the msd similarity matrix...\n",
      "Done computing similarity matrix.\n",
      "Computing the msd similarity matrix...\n",
      "Done computing similarity matrix.\n",
      "Computing the msd similarity matrix...\n",
      "Done computing similarity matrix.\n",
      "Computing the msd similarity matrix...\n",
      "Done computing similarity matrix.\n",
      "Computing the msd similarity matrix...\n",
      "Done computing similarity matrix.\n",
      "Computing the msd similarity matrix...\n",
      "Done computing similarity matrix.\n",
      "Computing the msd similarity matrix...\n",
      "Done computing similarity matrix.\n",
      "Computing the msd similarity matrix...\n",
      "Done computing similarity matrix.\n",
      "Computing the msd similarity matrix...\n",
      "Done computing similarity matrix.\n",
      "Computing the msd similarity matrix...\n",
      "Done computing similarity matrix.\n",
      "Computing the msd similarity matrix...\n",
      "Done computing similarity matrix.\n",
      "Computing the msd similarity matrix...\n",
      "Done computing similarity matrix.\n",
      "Computing the msd similarity matrix...\n",
      "Done computing similarity matrix.\n",
      "Computing the msd similarity matrix...\n",
      "Done computing similarity matrix.\n",
      "Computing the msd similarity matrix...\n",
      "Done computing similarity matrix.\n",
      "Computing the msd similarity matrix...\n",
      "Done computing similarity matrix.\n",
      "Computing the msd similarity matrix...\n",
      "Done computing similarity matrix.\n",
      "Computing the msd similarity matrix...\n",
      "Done computing similarity matrix.\n",
      "Computing the msd similarity matrix...\n",
      "Done computing similarity matrix.\n",
      "Computing the msd similarity matrix...\n",
      "Done computing similarity matrix.\n",
      "Computing the msd similarity matrix...\n",
      "Done computing similarity matrix.\n",
      "Computing the msd similarity matrix...\n",
      "Done computing similarity matrix.\n",
      "Computing the msd similarity matrix...\n",
      "Done computing similarity matrix.\n",
      "Computing the msd similarity matrix...\n",
      "Done computing similarity matrix.\n",
      "Computing the msd similarity matrix...\n",
      "Done computing similarity matrix.\n",
      "Computing the msd similarity matrix...\n",
      "Done computing similarity matrix.\n",
      "Computing the msd similarity matrix...\n",
      "Done computing similarity matrix.\n",
      "Computing the msd similarity matrix...\n",
      "Done computing similarity matrix.\n",
      "Computing the msd similarity matrix...\n",
      "Done computing similarity matrix.\n",
      "Computing the msd similarity matrix...\n",
      "Done computing similarity matrix.\n",
      "Computing the msd similarity matrix...\n",
      "Done computing similarity matrix.\n",
      "Computing the msd similarity matrix...\n",
      "Done computing similarity matrix.\n",
      "Computing the msd similarity matrix...\n",
      "Done computing similarity matrix.\n",
      "Computing the msd similarity matrix...\n",
      "Done computing similarity matrix.\n",
      "Computing the msd similarity matrix...\n",
      "Done computing similarity matrix.\n",
      "Computing the msd similarity matrix...\n",
      "Done computing similarity matrix.\n",
      "Computing the msd similarity matrix...\n",
      "Done computing similarity matrix.\n",
      "Computing the msd similarity matrix...\n",
      "Done computing similarity matrix.\n",
      "Computing the msd similarity matrix...\n",
      "Done computing similarity matrix.\n",
      "Computing the msd similarity matrix...\n",
      "Done computing similarity matrix.\n",
      "Computing the msd similarity matrix...\n",
      "Done computing similarity matrix.\n",
      "Computing the msd similarity matrix...\n",
      "Done computing similarity matrix.\n",
      "Computing the msd similarity matrix...\n",
      "Done computing similarity matrix.\n",
      "Computing the msd similarity matrix...\n",
      "Done computing similarity matrix.\n",
      "Computing the msd similarity matrix...\n",
      "Done computing similarity matrix.\n",
      "Computing the msd similarity matrix...\n",
      "Done computing similarity matrix.\n",
      "Computing the msd similarity matrix...\n",
      "Done computing similarity matrix.\n",
      "Computing the msd similarity matrix...\n",
      "Done computing similarity matrix.\n",
      "Computing the msd similarity matrix...\n",
      "Done computing similarity matrix.\n",
      "Computing the msd similarity matrix...\n",
      "Done computing similarity matrix.\n",
      "Computing the msd similarity matrix...\n",
      "Done computing similarity matrix.\n",
      "Computing the msd similarity matrix...\n",
      "Done computing similarity matrix.\n",
      "Computing the msd similarity matrix...\n",
      "Done computing similarity matrix.\n",
      "Computing the msd similarity matrix...\n",
      "Done computing similarity matrix.\n",
      "Computing the msd similarity matrix...\n",
      "Done computing similarity matrix.\n",
      "Computing the msd similarity matrix...\n",
      "Done computing similarity matrix.\n",
      "Computing the msd similarity matrix...\n",
      "Done computing similarity matrix.\n",
      "Computing the msd similarity matrix...\n",
      "Done computing similarity matrix.\n",
      "Computing the msd similarity matrix...\n",
      "Done computing similarity matrix.\n",
      "Computing the msd similarity matrix...\n",
      "Done computing similarity matrix.\n",
      "Computing the msd similarity matrix...\n",
      "Done computing similarity matrix.\n",
      "Computing the msd similarity matrix...\n",
      "Done computing similarity matrix.\n",
      "Computing the msd similarity matrix...\n",
      "Done computing similarity matrix.\n",
      "Computing the msd similarity matrix...\n",
      "Done computing similarity matrix.\n",
      "Computing the msd similarity matrix...\n",
      "Done computing similarity matrix.\n",
      "Computing the msd similarity matrix...\n",
      "Done computing similarity matrix.\n",
      "Computing the msd similarity matrix...\n",
      "Done computing similarity matrix.\n",
      "Computing the msd similarity matrix...\n",
      "Done computing similarity matrix.\n",
      "Computing the msd similarity matrix...\n",
      "Done computing similarity matrix.\n",
      "Computing the msd similarity matrix...\n",
      "Done computing similarity matrix.\n",
      "Computing the msd similarity matrix...\n",
      "Done computing similarity matrix.\n",
      "Computing the msd similarity matrix...\n",
      "Done computing similarity matrix.\n",
      "Computing the msd similarity matrix...\n",
      "Done computing similarity matrix.\n",
      "Computing the msd similarity matrix...\n",
      "Done computing similarity matrix.\n",
      "Computing the msd similarity matrix...\n",
      "Done computing similarity matrix.\n",
      "Computing the msd similarity matrix...\n",
      "Done computing similarity matrix.\n",
      "Computing the msd similarity matrix...\n",
      "Done computing similarity matrix.\n",
      "Computing the msd similarity matrix...\n",
      "Done computing similarity matrix.\n",
      "Computing the msd similarity matrix...\n",
      "Done computing similarity matrix.\n",
      "Computing the msd similarity matrix...\n",
      "Done computing similarity matrix.\n",
      "Computing the msd similarity matrix...\n",
      "Done computing similarity matrix.\n",
      "Computing the msd similarity matrix...\n",
      "Done computing similarity matrix.\n",
      "Computing the msd similarity matrix...\n",
      "Done computing similarity matrix.\n",
      "Computing the msd similarity matrix...\n",
      "Done computing similarity matrix.\n",
      "Computing the msd similarity matrix...\n",
      "Done computing similarity matrix.\n",
      "Computing the msd similarity matrix...\n",
      "Done computing similarity matrix.\n",
      "Computing the msd similarity matrix...\n",
      "Done computing similarity matrix.\n",
      "Computing the msd similarity matrix...\n",
      "Done computing similarity matrix.\n",
      "Computing the msd similarity matrix...\n",
      "Done computing similarity matrix.\n",
      "Computing the msd similarity matrix...\n",
      "Done computing similarity matrix.\n",
      "Computing the msd similarity matrix...\n",
      "Done computing similarity matrix.\n",
      "Computing the msd similarity matrix...\n",
      "Done computing similarity matrix.\n",
      "Computing the msd similarity matrix...\n",
      "Done computing similarity matrix.\n",
      "Computing the msd similarity matrix...\n",
      "Done computing similarity matrix.\n",
      "Computing the msd similarity matrix...\n",
      "Done computing similarity matrix.\n",
      "Computing the msd similarity matrix...\n",
      "Done computing similarity matrix.\n",
      "Computing the msd similarity matrix...\n",
      "Done computing similarity matrix.\n",
      "Computing the msd similarity matrix...\n",
      "Done computing similarity matrix.\n",
      "Computing the msd similarity matrix...\n",
      "Done computing similarity matrix.\n",
      "Computing the msd similarity matrix...\n",
      "Done computing similarity matrix.\n",
      "Computing the msd similarity matrix...\n",
      "Done computing similarity matrix.\n",
      "Computing the msd similarity matrix...\n",
      "Done computing similarity matrix.\n",
      "Computing the msd similarity matrix...\n",
      "Done computing similarity matrix.\n",
      "Computing the msd similarity matrix...\n",
      "Done computing similarity matrix.\n",
      "Computing the msd similarity matrix...\n",
      "Done computing similarity matrix.\n",
      "Computing the msd similarity matrix...\n",
      "Done computing similarity matrix.\n",
      "Computing the msd similarity matrix...\n",
      "Done computing similarity matrix.\n",
      "Computing the msd similarity matrix...\n",
      "Done computing similarity matrix.\n",
      "Computing the msd similarity matrix...\n",
      "Done computing similarity matrix.\n",
      "Computing the msd similarity matrix...\n",
      "Done computing similarity matrix.\n",
      "Computing the msd similarity matrix...\n",
      "Done computing similarity matrix.\n",
      "Computing the msd similarity matrix...\n",
      "Done computing similarity matrix.\n",
      "Computing the msd similarity matrix...\n",
      "Done computing similarity matrix.\n",
      "Computing the msd similarity matrix...\n",
      "Done computing similarity matrix.\n",
      "Computing the msd similarity matrix...\n",
      "Done computing similarity matrix.\n",
      "Computing the msd similarity matrix...\n",
      "Done computing similarity matrix.\n",
      "Computing the msd similarity matrix...\n",
      "Done computing similarity matrix.\n",
      "Computing the msd similarity matrix...\n",
      "Done computing similarity matrix.\n",
      "Computing the msd similarity matrix...\n",
      "Done computing similarity matrix.\n",
      "Computing the msd similarity matrix...\n",
      "Done computing similarity matrix.\n",
      "Computing the msd similarity matrix...\n",
      "Done computing similarity matrix.\n",
      "Computing the msd similarity matrix...\n",
      "Done computing similarity matrix.\n",
      "Computing the msd similarity matrix...\n",
      "Done computing similarity matrix.\n",
      "Computing the msd similarity matrix...\n",
      "Done computing similarity matrix.\n",
      "Computing the msd similarity matrix...\n",
      "Done computing similarity matrix.\n",
      "Computing the msd similarity matrix...\n",
      "Done computing similarity matrix.\n",
      "Computing the msd similarity matrix...\n",
      "Done computing similarity matrix.\n",
      "Computing the msd similarity matrix...\n",
      "Done computing similarity matrix.\n",
      "Computing the msd similarity matrix...\n",
      "Done computing similarity matrix.\n",
      "Computing the msd similarity matrix...\n",
      "Done computing similarity matrix.\n",
      "Computing the msd similarity matrix...\n",
      "Done computing similarity matrix.\n",
      "Computing the msd similarity matrix...\n",
      "Done computing similarity matrix.\n",
      "Computing the msd similarity matrix...\n",
      "Done computing similarity matrix.\n",
      "Computing the msd similarity matrix...\n",
      "Done computing similarity matrix.\n",
      "Computing the msd similarity matrix...\n",
      "Done computing similarity matrix.\n",
      "Computing the msd similarity matrix...\n",
      "Done computing similarity matrix.\n",
      "Computing the msd similarity matrix...\n",
      "Done computing similarity matrix.\n",
      "Computing the msd similarity matrix...\n",
      "Done computing similarity matrix.\n",
      "Computing the msd similarity matrix...\n",
      "Done computing similarity matrix.\n",
      "Computing the msd similarity matrix...\n",
      "Done computing similarity matrix.\n",
      "Computing the msd similarity matrix...\n",
      "Done computing similarity matrix.\n",
      "Computing the msd similarity matrix...\n",
      "Done computing similarity matrix.\n",
      "Computing the msd similarity matrix...\n",
      "Done computing similarity matrix.\n",
      "Computing the msd similarity matrix...\n",
      "Done computing similarity matrix.\n",
      "Computing the msd similarity matrix...\n",
      "Done computing similarity matrix.\n",
      "Computing the msd similarity matrix...\n",
      "Done computing similarity matrix.\n",
      "Computing the msd similarity matrix...\n",
      "Done computing similarity matrix.\n",
      "Computing the msd similarity matrix...\n",
      "Done computing similarity matrix.\n",
      "Computing the msd similarity matrix...\n",
      "Done computing similarity matrix.\n",
      "Computing the msd similarity matrix...\n",
      "Done computing similarity matrix.\n",
      "Computing the msd similarity matrix...\n",
      "Done computing similarity matrix.\n",
      "Computing the msd similarity matrix...\n",
      "Done computing similarity matrix.\n",
      "Computing the msd similarity matrix...\n",
      "Done computing similarity matrix.\n",
      "Computing the msd similarity matrix...\n",
      "Done computing similarity matrix.\n",
      "Computing the msd similarity matrix...\n",
      "Done computing similarity matrix.\n",
      "Computing the msd similarity matrix...\n",
      "Done computing similarity matrix.\n",
      "Computing the msd similarity matrix...\n",
      "Done computing similarity matrix.\n",
      "Computing the msd similarity matrix...\n",
      "Done computing similarity matrix.\n",
      "Computing the msd similarity matrix...\n",
      "Done computing similarity matrix.\n",
      "Computing the msd similarity matrix...\n",
      "Done computing similarity matrix.\n",
      "Computing the msd similarity matrix...\n",
      "Done computing similarity matrix.\n",
      "Computing the msd similarity matrix...\n",
      "Done computing similarity matrix.\n",
      "Computing the msd similarity matrix...\n",
      "Done computing similarity matrix.\n",
      "Computing the msd similarity matrix...\n",
      "Done computing similarity matrix.\n",
      "Computing the msd similarity matrix...\n",
      "Done computing similarity matrix.\n",
      "Computing the msd similarity matrix...\n",
      "Done computing similarity matrix.\n",
      "Computing the msd similarity matrix...\n",
      "Done computing similarity matrix.\n",
      "Computing the msd similarity matrix...\n",
      "Done computing similarity matrix.\n",
      "Computing the msd similarity matrix...\n",
      "Done computing similarity matrix.\n",
      "Computing the msd similarity matrix...\n",
      "Done computing similarity matrix.\n",
      "Computing the msd similarity matrix...\n",
      "Done computing similarity matrix.\n",
      "Computing the msd similarity matrix...\n",
      "Done computing similarity matrix.\n",
      "Computing the msd similarity matrix...\n",
      "Done computing similarity matrix.\n",
      "Computing the msd similarity matrix...\n",
      "Done computing similarity matrix.\n",
      "Computing the msd similarity matrix...\n",
      "Done computing similarity matrix.\n",
      "Computing the msd similarity matrix...\n",
      "Done computing similarity matrix.\n",
      "Computing the msd similarity matrix...\n",
      "Done computing similarity matrix.\n",
      "Computing the msd similarity matrix...\n",
      "Done computing similarity matrix.\n",
      "Computing the msd similarity matrix...\n",
      "Done computing similarity matrix.\n",
      "Computing the msd similarity matrix...\n",
      "Done computing similarity matrix.\n",
      "Computing the msd similarity matrix...\n",
      "Done computing similarity matrix.\n",
      "Computing the msd similarity matrix...\n",
      "Done computing similarity matrix.\n",
      "Computing the msd similarity matrix...\n",
      "Done computing similarity matrix.\n",
      "Computing the msd similarity matrix...\n",
      "Done computing similarity matrix.\n",
      "Computing the msd similarity matrix...\n",
      "Done computing similarity matrix.\n",
      "Computing the msd similarity matrix...\n",
      "Done computing similarity matrix.\n",
      "Computing the msd similarity matrix...\n",
      "Done computing similarity matrix.\n",
      "Computing the msd similarity matrix...\n",
      "Done computing similarity matrix.\n",
      "Computing the msd similarity matrix...\n",
      "Done computing similarity matrix.\n",
      "Computing the msd similarity matrix...\n",
      "Done computing similarity matrix.\n",
      "Computing the msd similarity matrix...\n",
      "Done computing similarity matrix.\n",
      "Computing the msd similarity matrix...\n",
      "Done computing similarity matrix.\n",
      "Computing the msd similarity matrix...\n",
      "Done computing similarity matrix.\n",
      "Computing the msd similarity matrix...\n",
      "Done computing similarity matrix.\n",
      "Computing the msd similarity matrix...\n",
      "Done computing similarity matrix.\n",
      "Computing the msd similarity matrix...\n",
      "Done computing similarity matrix.\n",
      "Computing the msd similarity matrix...\n",
      "Done computing similarity matrix.\n",
      "Computing the msd similarity matrix...\n",
      "Done computing similarity matrix.\n",
      "Computing the msd similarity matrix...\n",
      "Done computing similarity matrix.\n",
      "Computing the msd similarity matrix...\n",
      "Done computing similarity matrix.\n",
      "Computing the msd similarity matrix...\n",
      "Done computing similarity matrix.\n",
      "Computing the msd similarity matrix...\n",
      "Done computing similarity matrix.\n",
      "Computing the msd similarity matrix...\n",
      "Done computing similarity matrix.\n",
      "Computing the msd similarity matrix...\n",
      "Done computing similarity matrix.\n",
      "Computing the msd similarity matrix...\n",
      "Done computing similarity matrix.\n",
      "Computing the msd similarity matrix...\n",
      "Done computing similarity matrix.\n",
      "Computing the msd similarity matrix...\n",
      "Done computing similarity matrix.\n",
      "Computing the msd similarity matrix...\n",
      "Done computing similarity matrix.\n"
     ]
    },
    {
     "data": {
      "text/plain": [
       "{'k': 40, 'min_k': 8}"
      ]
     },
     "execution_count": 19,
     "metadata": {},
     "output_type": "execute_result"
    }
   ],
   "source": [
    "param_grid = {'k': list(range(10,45,5)),\n",
    "             'min_k' : list(range(5,11))}\n",
    "gs = GridSearchCV(KNNWithMeans, param_grid, measures=['rmse'], return_train_measures = True, cv = 5)\n",
    "gs.fit(data)\n",
    "gs.best_params['rmse']"
   ]
  },
  {
   "cell_type": "code",
   "execution_count": 65,
   "id": "b1536cb1",
   "metadata": {},
   "outputs": [
    {
     "name": "stdout",
     "output_type": "stream",
     "text": [
      "RMSE on training data :  0.09608892220489698\n",
      "RMSE on test data:  0.15010932162080318\n",
      "RMSE on training data :  0.07395332487755163\n",
      "RMSE on test data:  0.11779968015325377\n"
     ]
    }
   ],
   "source": [
    "tuned_knn_model = KNNWithMeans(k = 40, min_k= 8,random_state = 42, user_based = True, verbose = False)\n",
    "tuned_knn_model.fit(train)\n",
    "train_predictions = tuned_knn_model.test(train.build_testset())\n",
    "test_predictions = tuned_knn_model.test(test)\n",
    "print(\"RMSE on training data : \", accuracy.rmse(train_predictions, verbose = False))\n",
    "print(\"RMSE on test data: \", accuracy.rmse(test_predictions, verbose = False))\n",
    "\n",
    "print(\"RMSE on training data : \", accuracy.mae(train_predictions, verbose = False))\n",
    "print(\"RMSE on test data: \", accuracy.mae(test_predictions, verbose = False))"
   ]
  },
  {
   "cell_type": "code",
   "execution_count": 66,
   "id": "5f6d62ff",
   "metadata": {},
   "outputs": [
    {
     "name": "stdout",
     "output_type": "stream",
     "text": [
      "Computing the msd similarity matrix...\n",
      "Done computing similarity matrix.\n"
     ]
    },
    {
     "data": {
      "text/plain": [
       "<surprise.prediction_algorithms.knns.KNNWithMeans at 0x176956490>"
      ]
     },
     "execution_count": 66,
     "metadata": {},
     "output_type": "execute_result"
    }
   ],
   "source": [
    "knn_model_item_based = KNNWithMeans(k = 40, min_k= 8, user_based = False, random_state = 42)\n",
    "knn_model_item_based.fit(train)"
   ]
  },
  {
   "cell_type": "code",
   "execution_count": 67,
   "id": "be7fe594",
   "metadata": {},
   "outputs": [
    {
     "name": "stdout",
     "output_type": "stream",
     "text": [
      "RMSE on training data :  0.09608892220489698\n",
      "RMSE on test data:  0.15010932162080318\n",
      "RMSE on training data :  0.07395332487755163\n",
      "RMSE on test data:  0.11779968015325377\n"
     ]
    }
   ],
   "source": [
    "train_predictions = knn_model_item_based.test(train.build_testset())\n",
    "test_predictions = knn_model_item_based.test(test)\n",
    "print(\"RMSE on training data : \", accuracy.rmse(train_predictions, verbose = False))\n",
    "print(\"RMSE on test data: \", accuracy.rmse(test_predictions, verbose = False))\n",
    "\n",
    "print(\"RMSE on training data : \", accuracy.mae(train_predictions, verbose = False))\n",
    "print(\"RMSE on test data: \", accuracy.mae(test_predictions, verbose = False))"
   ]
  },
  {
   "cell_type": "markdown",
   "id": "c0d1599d",
   "metadata": {},
   "source": [
    "# KNNWithZScore"
   ]
  },
  {
   "cell_type": "code",
   "execution_count": 68,
   "id": "a1c49ecd",
   "metadata": {},
   "outputs": [
    {
     "data": {
      "text/plain": [
       "<surprise.prediction_algorithms.knns.KNNWithZScore at 0x176956070>"
      ]
     },
     "execution_count": 68,
     "metadata": {},
     "output_type": "execute_result"
    }
   ],
   "source": [
    "from surprise import KNNWithZScore\n",
    "knn_model = KNNWithZScore(random_state = 42,verbose = False)\n",
    "knn_model.fit(train)"
   ]
  },
  {
   "cell_type": "code",
   "execution_count": 69,
   "id": "112eda0e",
   "metadata": {},
   "outputs": [
    {
     "name": "stdout",
     "output_type": "stream",
     "text": [
      "RMSE on training data :  0.09406491064236136\n",
      "RMSE on test data:  0.1548072715552096\n"
     ]
    }
   ],
   "source": [
    "train_predictions = knn_model.test(train.build_testset())\n",
    "test_predictions = knn_model.test(test)\n",
    "print(\"RMSE on training data : \", accuracy.rmse(train_predictions, verbose = False))\n",
    "print(\"RMSE on test data: \", accuracy.rmse(test_predictions, verbose = False))"
   ]
  },
  {
   "cell_type": "code",
   "execution_count": 26,
   "id": "662921cc",
   "metadata": {
    "collapsed": true,
    "jupyter": {
     "outputs_hidden": true
    }
   },
   "outputs": [
    {
     "name": "stdout",
     "output_type": "stream",
     "text": [
      "Computing the msd similarity matrix...\n",
      "Done computing similarity matrix.\n",
      "Computing the msd similarity matrix...\n",
      "Done computing similarity matrix.\n",
      "Computing the msd similarity matrix...\n",
      "Done computing similarity matrix.\n",
      "Computing the msd similarity matrix...\n",
      "Done computing similarity matrix.\n",
      "Computing the msd similarity matrix...\n",
      "Done computing similarity matrix.\n",
      "Computing the msd similarity matrix...\n",
      "Done computing similarity matrix.\n",
      "Computing the msd similarity matrix...\n",
      "Done computing similarity matrix.\n",
      "Computing the msd similarity matrix...\n",
      "Done computing similarity matrix.\n",
      "Computing the msd similarity matrix...\n",
      "Done computing similarity matrix.\n",
      "Computing the msd similarity matrix...\n",
      "Done computing similarity matrix.\n",
      "Computing the msd similarity matrix...\n",
      "Done computing similarity matrix.\n",
      "Computing the msd similarity matrix...\n",
      "Done computing similarity matrix.\n",
      "Computing the msd similarity matrix...\n",
      "Done computing similarity matrix.\n",
      "Computing the msd similarity matrix...\n",
      "Done computing similarity matrix.\n",
      "Computing the msd similarity matrix...\n",
      "Done computing similarity matrix.\n",
      "Computing the msd similarity matrix...\n",
      "Done computing similarity matrix.\n",
      "Computing the msd similarity matrix...\n",
      "Done computing similarity matrix.\n",
      "Computing the msd similarity matrix...\n",
      "Done computing similarity matrix.\n",
      "Computing the msd similarity matrix...\n",
      "Done computing similarity matrix.\n",
      "Computing the msd similarity matrix...\n",
      "Done computing similarity matrix.\n",
      "Computing the msd similarity matrix...\n",
      "Done computing similarity matrix.\n",
      "Computing the msd similarity matrix...\n",
      "Done computing similarity matrix.\n",
      "Computing the msd similarity matrix...\n",
      "Done computing similarity matrix.\n",
      "Computing the msd similarity matrix...\n",
      "Done computing similarity matrix.\n",
      "Computing the msd similarity matrix...\n",
      "Done computing similarity matrix.\n",
      "Computing the msd similarity matrix...\n",
      "Done computing similarity matrix.\n",
      "Computing the msd similarity matrix...\n",
      "Done computing similarity matrix.\n",
      "Computing the msd similarity matrix...\n",
      "Done computing similarity matrix.\n",
      "Computing the msd similarity matrix...\n",
      "Done computing similarity matrix.\n",
      "Computing the msd similarity matrix...\n",
      "Done computing similarity matrix.\n",
      "Computing the msd similarity matrix...\n",
      "Done computing similarity matrix.\n",
      "Computing the msd similarity matrix...\n",
      "Done computing similarity matrix.\n",
      "Computing the msd similarity matrix...\n",
      "Done computing similarity matrix.\n",
      "Computing the msd similarity matrix...\n",
      "Done computing similarity matrix.\n",
      "Computing the msd similarity matrix...\n",
      "Done computing similarity matrix.\n",
      "Computing the msd similarity matrix...\n",
      "Done computing similarity matrix.\n",
      "Computing the msd similarity matrix...\n",
      "Done computing similarity matrix.\n",
      "Computing the msd similarity matrix...\n",
      "Done computing similarity matrix.\n",
      "Computing the msd similarity matrix...\n",
      "Done computing similarity matrix.\n",
      "Computing the msd similarity matrix...\n",
      "Done computing similarity matrix.\n",
      "Computing the msd similarity matrix...\n",
      "Done computing similarity matrix.\n",
      "Computing the msd similarity matrix...\n",
      "Done computing similarity matrix.\n",
      "Computing the msd similarity matrix...\n",
      "Done computing similarity matrix.\n",
      "Computing the msd similarity matrix...\n",
      "Done computing similarity matrix.\n",
      "Computing the msd similarity matrix...\n",
      "Done computing similarity matrix.\n",
      "Computing the msd similarity matrix...\n",
      "Done computing similarity matrix.\n",
      "Computing the msd similarity matrix...\n",
      "Done computing similarity matrix.\n",
      "Computing the msd similarity matrix...\n",
      "Done computing similarity matrix.\n",
      "Computing the msd similarity matrix...\n",
      "Done computing similarity matrix.\n",
      "Computing the msd similarity matrix...\n",
      "Done computing similarity matrix.\n",
      "Computing the msd similarity matrix...\n",
      "Done computing similarity matrix.\n",
      "Computing the msd similarity matrix...\n",
      "Done computing similarity matrix.\n",
      "Computing the msd similarity matrix...\n",
      "Done computing similarity matrix.\n",
      "Computing the msd similarity matrix...\n",
      "Done computing similarity matrix.\n",
      "Computing the msd similarity matrix...\n",
      "Done computing similarity matrix.\n",
      "Computing the msd similarity matrix...\n",
      "Done computing similarity matrix.\n",
      "Computing the msd similarity matrix...\n",
      "Done computing similarity matrix.\n",
      "Computing the msd similarity matrix...\n",
      "Done computing similarity matrix.\n",
      "Computing the msd similarity matrix...\n",
      "Done computing similarity matrix.\n",
      "Computing the msd similarity matrix...\n",
      "Done computing similarity matrix.\n",
      "Computing the msd similarity matrix...\n",
      "Done computing similarity matrix.\n",
      "Computing the msd similarity matrix...\n",
      "Done computing similarity matrix.\n",
      "Computing the msd similarity matrix...\n",
      "Done computing similarity matrix.\n",
      "Computing the msd similarity matrix...\n",
      "Done computing similarity matrix.\n",
      "Computing the msd similarity matrix...\n",
      "Done computing similarity matrix.\n",
      "Computing the msd similarity matrix...\n",
      "Done computing similarity matrix.\n",
      "Computing the msd similarity matrix...\n",
      "Done computing similarity matrix.\n",
      "Computing the msd similarity matrix...\n",
      "Done computing similarity matrix.\n",
      "Computing the msd similarity matrix...\n",
      "Done computing similarity matrix.\n",
      "Computing the msd similarity matrix...\n",
      "Done computing similarity matrix.\n",
      "Computing the msd similarity matrix...\n",
      "Done computing similarity matrix.\n",
      "Computing the msd similarity matrix...\n",
      "Done computing similarity matrix.\n",
      "Computing the msd similarity matrix...\n",
      "Done computing similarity matrix.\n",
      "Computing the msd similarity matrix...\n",
      "Done computing similarity matrix.\n",
      "Computing the msd similarity matrix...\n",
      "Done computing similarity matrix.\n",
      "Computing the msd similarity matrix...\n",
      "Done computing similarity matrix.\n",
      "Computing the msd similarity matrix...\n",
      "Done computing similarity matrix.\n",
      "Computing the msd similarity matrix...\n",
      "Done computing similarity matrix.\n",
      "Computing the msd similarity matrix...\n",
      "Done computing similarity matrix.\n",
      "Computing the msd similarity matrix...\n",
      "Done computing similarity matrix.\n",
      "Computing the msd similarity matrix...\n",
      "Done computing similarity matrix.\n",
      "Computing the msd similarity matrix...\n",
      "Done computing similarity matrix.\n",
      "Computing the msd similarity matrix...\n",
      "Done computing similarity matrix.\n",
      "Computing the msd similarity matrix...\n",
      "Done computing similarity matrix.\n",
      "Computing the msd similarity matrix...\n",
      "Done computing similarity matrix.\n",
      "Computing the msd similarity matrix...\n",
      "Done computing similarity matrix.\n",
      "Computing the msd similarity matrix...\n",
      "Done computing similarity matrix.\n",
      "Computing the msd similarity matrix...\n",
      "Done computing similarity matrix.\n",
      "Computing the msd similarity matrix...\n",
      "Done computing similarity matrix.\n",
      "Computing the msd similarity matrix...\n",
      "Done computing similarity matrix.\n",
      "Computing the msd similarity matrix...\n",
      "Done computing similarity matrix.\n",
      "Computing the msd similarity matrix...\n",
      "Done computing similarity matrix.\n",
      "Computing the msd similarity matrix...\n",
      "Done computing similarity matrix.\n",
      "Computing the msd similarity matrix...\n",
      "Done computing similarity matrix.\n",
      "Computing the msd similarity matrix...\n",
      "Done computing similarity matrix.\n",
      "Computing the msd similarity matrix...\n",
      "Done computing similarity matrix.\n",
      "Computing the msd similarity matrix...\n",
      "Done computing similarity matrix.\n",
      "Computing the msd similarity matrix...\n",
      "Done computing similarity matrix.\n",
      "Computing the msd similarity matrix...\n",
      "Done computing similarity matrix.\n",
      "Computing the msd similarity matrix...\n",
      "Done computing similarity matrix.\n",
      "Computing the msd similarity matrix...\n",
      "Done computing similarity matrix.\n",
      "Computing the msd similarity matrix...\n",
      "Done computing similarity matrix.\n",
      "Computing the msd similarity matrix...\n",
      "Done computing similarity matrix.\n",
      "Computing the msd similarity matrix...\n",
      "Done computing similarity matrix.\n",
      "Computing the msd similarity matrix...\n",
      "Done computing similarity matrix.\n",
      "Computing the msd similarity matrix...\n",
      "Done computing similarity matrix.\n",
      "Computing the msd similarity matrix...\n",
      "Done computing similarity matrix.\n",
      "Computing the msd similarity matrix...\n",
      "Done computing similarity matrix.\n",
      "Computing the msd similarity matrix...\n",
      "Done computing similarity matrix.\n",
      "Computing the msd similarity matrix...\n",
      "Done computing similarity matrix.\n",
      "Computing the msd similarity matrix...\n",
      "Done computing similarity matrix.\n",
      "Computing the msd similarity matrix...\n",
      "Done computing similarity matrix.\n",
      "Computing the msd similarity matrix...\n",
      "Done computing similarity matrix.\n",
      "Computing the msd similarity matrix...\n",
      "Done computing similarity matrix.\n",
      "Computing the msd similarity matrix...\n",
      "Done computing similarity matrix.\n",
      "Computing the msd similarity matrix...\n",
      "Done computing similarity matrix.\n",
      "Computing the msd similarity matrix...\n",
      "Done computing similarity matrix.\n",
      "Computing the msd similarity matrix...\n",
      "Done computing similarity matrix.\n",
      "Computing the msd similarity matrix...\n",
      "Done computing similarity matrix.\n",
      "Computing the msd similarity matrix...\n",
      "Done computing similarity matrix.\n",
      "Computing the msd similarity matrix...\n",
      "Done computing similarity matrix.\n",
      "Computing the msd similarity matrix...\n",
      "Done computing similarity matrix.\n",
      "Computing the msd similarity matrix...\n",
      "Done computing similarity matrix.\n",
      "Computing the msd similarity matrix...\n",
      "Done computing similarity matrix.\n",
      "Computing the msd similarity matrix...\n",
      "Done computing similarity matrix.\n",
      "Computing the msd similarity matrix...\n",
      "Done computing similarity matrix.\n",
      "Computing the msd similarity matrix...\n",
      "Done computing similarity matrix.\n",
      "Computing the msd similarity matrix...\n",
      "Done computing similarity matrix.\n",
      "Computing the msd similarity matrix...\n",
      "Done computing similarity matrix.\n",
      "Computing the msd similarity matrix...\n",
      "Done computing similarity matrix.\n",
      "Computing the msd similarity matrix...\n",
      "Done computing similarity matrix.\n",
      "Computing the msd similarity matrix...\n",
      "Done computing similarity matrix.\n",
      "Computing the msd similarity matrix...\n",
      "Done computing similarity matrix.\n",
      "Computing the msd similarity matrix...\n",
      "Done computing similarity matrix.\n",
      "Computing the msd similarity matrix...\n",
      "Done computing similarity matrix.\n",
      "Computing the msd similarity matrix...\n",
      "Done computing similarity matrix.\n",
      "Computing the msd similarity matrix...\n",
      "Done computing similarity matrix.\n",
      "Computing the msd similarity matrix...\n",
      "Done computing similarity matrix.\n",
      "Computing the msd similarity matrix...\n",
      "Done computing similarity matrix.\n",
      "Computing the msd similarity matrix...\n",
      "Done computing similarity matrix.\n",
      "Computing the msd similarity matrix...\n",
      "Done computing similarity matrix.\n",
      "Computing the msd similarity matrix...\n",
      "Done computing similarity matrix.\n",
      "Computing the msd similarity matrix...\n",
      "Done computing similarity matrix.\n",
      "Computing the msd similarity matrix...\n",
      "Done computing similarity matrix.\n",
      "Computing the msd similarity matrix...\n",
      "Done computing similarity matrix.\n",
      "Computing the msd similarity matrix...\n",
      "Done computing similarity matrix.\n",
      "Computing the msd similarity matrix...\n",
      "Done computing similarity matrix.\n",
      "Computing the msd similarity matrix...\n",
      "Done computing similarity matrix.\n",
      "Computing the msd similarity matrix...\n",
      "Done computing similarity matrix.\n",
      "Computing the msd similarity matrix...\n",
      "Done computing similarity matrix.\n",
      "Computing the msd similarity matrix...\n",
      "Done computing similarity matrix.\n",
      "Computing the msd similarity matrix...\n",
      "Done computing similarity matrix.\n",
      "Computing the msd similarity matrix...\n",
      "Done computing similarity matrix.\n",
      "Computing the msd similarity matrix...\n",
      "Done computing similarity matrix.\n",
      "Computing the msd similarity matrix...\n",
      "Done computing similarity matrix.\n",
      "Computing the msd similarity matrix...\n",
      "Done computing similarity matrix.\n",
      "Computing the msd similarity matrix...\n",
      "Done computing similarity matrix.\n",
      "Computing the msd similarity matrix...\n",
      "Done computing similarity matrix.\n",
      "Computing the msd similarity matrix...\n",
      "Done computing similarity matrix.\n",
      "Computing the msd similarity matrix...\n",
      "Done computing similarity matrix.\n",
      "Computing the msd similarity matrix...\n",
      "Done computing similarity matrix.\n",
      "Computing the msd similarity matrix...\n",
      "Done computing similarity matrix.\n",
      "Computing the msd similarity matrix...\n",
      "Done computing similarity matrix.\n",
      "Computing the msd similarity matrix...\n",
      "Done computing similarity matrix.\n",
      "Computing the msd similarity matrix...\n",
      "Done computing similarity matrix.\n",
      "Computing the msd similarity matrix...\n",
      "Done computing similarity matrix.\n",
      "Computing the msd similarity matrix...\n",
      "Done computing similarity matrix.\n",
      "Computing the msd similarity matrix...\n",
      "Done computing similarity matrix.\n",
      "Computing the msd similarity matrix...\n",
      "Done computing similarity matrix.\n",
      "Computing the msd similarity matrix...\n",
      "Done computing similarity matrix.\n",
      "Computing the msd similarity matrix...\n",
      "Done computing similarity matrix.\n",
      "Computing the msd similarity matrix...\n",
      "Done computing similarity matrix.\n",
      "Computing the msd similarity matrix...\n",
      "Done computing similarity matrix.\n",
      "Computing the msd similarity matrix...\n",
      "Done computing similarity matrix.\n",
      "Computing the msd similarity matrix...\n",
      "Done computing similarity matrix.\n",
      "Computing the msd similarity matrix...\n",
      "Done computing similarity matrix.\n",
      "Computing the msd similarity matrix...\n",
      "Done computing similarity matrix.\n",
      "Computing the msd similarity matrix...\n",
      "Done computing similarity matrix.\n",
      "Computing the msd similarity matrix...\n",
      "Done computing similarity matrix.\n",
      "Computing the msd similarity matrix...\n",
      "Done computing similarity matrix.\n",
      "Computing the msd similarity matrix...\n",
      "Done computing similarity matrix.\n",
      "Computing the msd similarity matrix...\n",
      "Done computing similarity matrix.\n",
      "Computing the msd similarity matrix...\n",
      "Done computing similarity matrix.\n",
      "Computing the msd similarity matrix...\n",
      "Done computing similarity matrix.\n",
      "Computing the msd similarity matrix...\n",
      "Done computing similarity matrix.\n",
      "Computing the msd similarity matrix...\n",
      "Done computing similarity matrix.\n",
      "Computing the msd similarity matrix...\n",
      "Done computing similarity matrix.\n",
      "Computing the msd similarity matrix...\n",
      "Done computing similarity matrix.\n",
      "Computing the msd similarity matrix...\n",
      "Done computing similarity matrix.\n",
      "Computing the msd similarity matrix...\n",
      "Done computing similarity matrix.\n",
      "Computing the msd similarity matrix...\n",
      "Done computing similarity matrix.\n",
      "Computing the msd similarity matrix...\n",
      "Done computing similarity matrix.\n",
      "Computing the msd similarity matrix...\n",
      "Done computing similarity matrix.\n",
      "Computing the msd similarity matrix...\n",
      "Done computing similarity matrix.\n",
      "Computing the msd similarity matrix...\n",
      "Done computing similarity matrix.\n",
      "Computing the msd similarity matrix...\n",
      "Done computing similarity matrix.\n",
      "Computing the msd similarity matrix...\n",
      "Done computing similarity matrix.\n",
      "Computing the msd similarity matrix...\n",
      "Done computing similarity matrix.\n",
      "Computing the msd similarity matrix...\n",
      "Done computing similarity matrix.\n",
      "Computing the msd similarity matrix...\n",
      "Done computing similarity matrix.\n",
      "Computing the msd similarity matrix...\n",
      "Done computing similarity matrix.\n",
      "Computing the msd similarity matrix...\n",
      "Done computing similarity matrix.\n",
      "Computing the msd similarity matrix...\n",
      "Done computing similarity matrix.\n",
      "Computing the msd similarity matrix...\n",
      "Done computing similarity matrix.\n",
      "Computing the msd similarity matrix...\n",
      "Done computing similarity matrix.\n",
      "Computing the msd similarity matrix...\n",
      "Done computing similarity matrix.\n",
      "Computing the msd similarity matrix...\n",
      "Done computing similarity matrix.\n",
      "Computing the msd similarity matrix...\n",
      "Done computing similarity matrix.\n",
      "Computing the msd similarity matrix...\n",
      "Done computing similarity matrix.\n",
      "Computing the msd similarity matrix...\n",
      "Done computing similarity matrix.\n"
     ]
    },
    {
     "data": {
      "text/plain": [
       "{'k': 40, 'min_k': 7}"
      ]
     },
     "execution_count": 26,
     "metadata": {},
     "output_type": "execute_result"
    }
   ],
   "source": [
    "param_grid = {'k': list(range(10,45,5)),\n",
    "             'min_k' : list(range(5,11))}\n",
    "gs = GridSearchCV(KNNWithZScore, param_grid, measures=['rmse'], return_train_measures = True, cv = 5)\n",
    "gs.fit(data)\n",
    "gs.best_params['rmse']"
   ]
  },
  {
   "cell_type": "code",
   "execution_count": 70,
   "id": "a1dc90fe",
   "metadata": {},
   "outputs": [
    {
     "name": "stdout",
     "output_type": "stream",
     "text": [
      "RMSE on training data :  0.09611198255968346\n",
      "RMSE on test data:  0.1505453824634947\n",
      "RMSE on training data :  0.07336211446006236\n",
      "RMSE on test data:  0.1179712205363957\n"
     ]
    }
   ],
   "source": [
    "tuned_knn_model = KNNWithZScore(k = 40, min_k= 7,random_state = 42, verbose = False)\n",
    "tuned_knn_model.fit(train)\n",
    "train_predictions = tuned_knn_model.test(train.build_testset())\n",
    "test_predictions = tuned_knn_model.test(test)\n",
    "print(\"RMSE on training data : \", accuracy.rmse(train_predictions, verbose = False))\n",
    "print(\"RMSE on test data: \", accuracy.rmse(test_predictions, verbose = False))\n",
    "\n",
    "print(\"RMSE on training data : \", accuracy.mae(train_predictions, verbose = False))\n",
    "print(\"RMSE on test data: \", accuracy.mae(test_predictions, verbose = False))"
   ]
  },
  {
   "cell_type": "code",
   "execution_count": 71,
   "id": "5d2de2ae",
   "metadata": {},
   "outputs": [
    {
     "name": "stdout",
     "output_type": "stream",
     "text": [
      "Computing the msd similarity matrix...\n",
      "Done computing similarity matrix.\n"
     ]
    },
    {
     "data": {
      "text/plain": [
       "<surprise.prediction_algorithms.knns.KNNWithZScore at 0x173364550>"
      ]
     },
     "execution_count": 71,
     "metadata": {},
     "output_type": "execute_result"
    }
   ],
   "source": [
    "knn_model_item_based = KNNWithZScore(k = 40, min_k= 7, user_based = False, random_state = 42)\n",
    "knn_model_item_based.fit(train)"
   ]
  },
  {
   "cell_type": "code",
   "execution_count": 72,
   "id": "cd100d36",
   "metadata": {},
   "outputs": [
    {
     "name": "stdout",
     "output_type": "stream",
     "text": [
      "RMSE on training data :  0.09611198255968346\n",
      "RMSE on test data:  0.1505453824634947\n",
      "RMSE on training data :  0.07336211446006236\n",
      "RMSE on test data:  0.1179712205363957\n"
     ]
    }
   ],
   "source": [
    "train_predictions = knn_model_item_based.test(train.build_testset())\n",
    "test_predictions = knn_model_item_based.test(test)\n",
    "print(\"RMSE on training data : \", accuracy.rmse(train_predictions, verbose = False))\n",
    "print(\"RMSE on test data: \", accuracy.rmse(test_predictions, verbose = False))\n",
    "\n",
    "print(\"RMSE on training data : \", accuracy.mae(train_predictions, verbose = False))\n",
    "print(\"RMSE on test data: \", accuracy.mae(test_predictions, verbose = False))"
   ]
  },
  {
   "cell_type": "markdown",
   "id": "e8a4bbee",
   "metadata": {},
   "source": [
    "# SVD"
   ]
  },
  {
   "cell_type": "code",
   "execution_count": 73,
   "id": "f3911eaf",
   "metadata": {},
   "outputs": [
    {
     "data": {
      "text/plain": [
       "<surprise.prediction_algorithms.matrix_factorization.SVD at 0x1769560d0>"
      ]
     },
     "execution_count": 73,
     "metadata": {},
     "output_type": "execute_result"
    }
   ],
   "source": [
    "svd_model = SVD(random_state = 42)\n",
    "svd_model.fit(train)"
   ]
  },
  {
   "cell_type": "code",
   "execution_count": 39,
   "id": "e538840d",
   "metadata": {},
   "outputs": [
    {
     "name": "stdout",
     "output_type": "stream",
     "text": [
      "RMSE on training data :  0.12379361886798121\n",
      "RMSE on test data:  0.15493124334268454\n"
     ]
    }
   ],
   "source": [
    "train_predictions = svd_model.test(train.build_testset())\n",
    "test_predictions = svd_model.test(test)\n",
    "print(\"RMSE on training data : \", accuracy.rmse(train_predictions, verbose = False))\n",
    "print(\"RMSE on test data: \", accuracy.rmse(test_predictions, verbose = False))"
   ]
  },
  {
   "cell_type": "code",
   "execution_count": 41,
   "id": "5ec3127e",
   "metadata": {},
   "outputs": [
    {
     "data": {
      "text/plain": [
       "{'n_factors': 80, 'reg_all': 0.10999999999999997, 'n_epochs': 40}"
      ]
     },
     "execution_count": 41,
     "metadata": {},
     "output_type": "execute_result"
    }
   ],
   "source": [
    "param_distributions  = {'n_factors': list(range(50,160,10)),'reg_all': np.arange(0.01,0.2,0.02),'n_epochs' : list(range(1,51))}\n",
    "rs = RandomizedSearchCV(SVD, param_distributions, measures=['rmse'], return_train_measures = True, cv = 5, n_iter = 20)\n",
    "rs.fit(data)\n",
    "rs.best_params['rmse']"
   ]
  },
  {
   "cell_type": "code",
   "execution_count": 74,
   "id": "a7ddf87b",
   "metadata": {},
   "outputs": [
    {
     "name": "stdout",
     "output_type": "stream",
     "text": [
      "RMSE on training data :  0.11437254697394039\n",
      "RMSE on test data:  0.13958519208289977\n",
      "RMSE on training data :  0.09445669746572102\n",
      "RMSE on test data:  0.11666605828147424\n"
     ]
    }
   ],
   "source": [
    "tuned_svd_model = SVD(n_factors=80, reg_all =0.109, n_epochs = 40, random_state = 42,verbose = False)\n",
    "tuned_svd_model.fit(train)\n",
    "train_predictions = tuned_svd_model.test(train.build_testset())\n",
    "test_predictions = tuned_svd_model.test(test)\n",
    "print(\"RMSE on training data : \", accuracy.rmse(train_predictions, verbose = False))\n",
    "print(\"RMSE on test data: \", accuracy.rmse(test_predictions, verbose = False))\n",
    "\n",
    "print(\"RMSE on training data : \", accuracy.mae(train_predictions, verbose = False))\n",
    "print(\"RMSE on test data: \", accuracy.mae(test_predictions, verbose = False))"
   ]
  },
  {
   "cell_type": "markdown",
   "id": "a13f9db2",
   "metadata": {},
   "source": [
    "# SVDpp"
   ]
  },
  {
   "cell_type": "code",
   "execution_count": 44,
   "id": "5f507653",
   "metadata": {},
   "outputs": [],
   "source": [
    "from surprise import SVDpp"
   ]
  },
  {
   "cell_type": "code",
   "execution_count": 75,
   "id": "5dbab027",
   "metadata": {},
   "outputs": [
    {
     "data": {
      "text/plain": [
       "<surprise.prediction_algorithms.matrix_factorization.SVDpp at 0x1768a11f0>"
      ]
     },
     "execution_count": 75,
     "metadata": {},
     "output_type": "execute_result"
    }
   ],
   "source": [
    "svd_model = SVDpp(random_state = 42)\n",
    "svd_model.fit(train)"
   ]
  },
  {
   "cell_type": "code",
   "execution_count": 49,
   "id": "cb740644",
   "metadata": {},
   "outputs": [
    {
     "name": "stdout",
     "output_type": "stream",
     "text": [
      "RMSE on training data :  0.12121853764602866\n",
      "RMSE on test data:  0.14144943666794826\n"
     ]
    }
   ],
   "source": [
    "train_predictions = svd_model.test(train.build_testset())\n",
    "test_predictions = svd_model.test(test)\n",
    "print(\"RMSE on training data : \", accuracy.rmse(train_predictions, verbose = False))\n",
    "print(\"RMSE on test data: \", accuracy.rmse(test_predictions, verbose = False))"
   ]
  },
  {
   "cell_type": "code",
   "execution_count": 50,
   "id": "c1942270",
   "metadata": {},
   "outputs": [
    {
     "data": {
      "text/plain": [
       "{'n_factors': 50, 'reg_all': 0.15, 'n_epochs': 43}"
      ]
     },
     "execution_count": 50,
     "metadata": {},
     "output_type": "execute_result"
    }
   ],
   "source": [
    "param_distributions  = {'n_factors': list(range(50,160,10)),'reg_all': np.arange(0.01,0.2,0.02),'n_epochs' : list(range(1,51))}\n",
    "rs = RandomizedSearchCV(SVDpp, param_distributions, measures=['rmse'], return_train_measures = True, cv = 5, n_iter = 20)\n",
    "rs.fit(data)\n",
    "rs.best_params['rmse']"
   ]
  },
  {
   "cell_type": "code",
   "execution_count": 76,
   "id": "5c2e5ed5",
   "metadata": {},
   "outputs": [
    {
     "name": "stdout",
     "output_type": "stream",
     "text": [
      "RMSE on training data :  0.11359161702141227\n",
      "RMSE on test data:  0.13700862030865602\n",
      "RMSE on training data :  0.09336124422995537\n",
      "RMSE on test data:  0.11436906080928257\n"
     ]
    }
   ],
   "source": [
    "tuned_svd_model = SVDpp(n_factors=50, reg_all =0.15, n_epochs = 43, random_state = 42,verbose = False)\n",
    "tuned_svd_model.fit(train)\n",
    "train_predictions = tuned_svd_model.test(train.build_testset())\n",
    "test_predictions = tuned_svd_model.test(test)\n",
    "print(\"RMSE on training data : \", accuracy.rmse(train_predictions, verbose = False))\n",
    "print(\"RMSE on test data: \", accuracy.rmse(test_predictions, verbose = False))\n",
    "\n",
    "print(\"RMSE on training data : \", accuracy.mae(train_predictions, verbose = False))\n",
    "print(\"RMSE on test data: \", accuracy.mae(test_predictions, verbose = False))"
   ]
  },
  {
   "cell_type": "markdown",
   "id": "5619d9a5",
   "metadata": {},
   "source": [
    "# NMF"
   ]
  },
  {
   "cell_type": "code",
   "execution_count": 52,
   "id": "763b4267",
   "metadata": {},
   "outputs": [],
   "source": [
    "from surprise import NMF"
   ]
  },
  {
   "cell_type": "code",
   "execution_count": 77,
   "id": "1ee47efd",
   "metadata": {},
   "outputs": [
    {
     "data": {
      "text/plain": [
       "<surprise.prediction_algorithms.matrix_factorization.NMF at 0x1768a1a90>"
      ]
     },
     "execution_count": 77,
     "metadata": {},
     "output_type": "execute_result"
    }
   ],
   "source": [
    "nmf_model = NMF(random_state = 42)\n",
    "nmf_model.fit(train)"
   ]
  },
  {
   "cell_type": "code",
   "execution_count": 54,
   "id": "67c4645a",
   "metadata": {},
   "outputs": [
    {
     "name": "stdout",
     "output_type": "stream",
     "text": [
      "RMSE on training data :  0.11496310871867792\n",
      "RMSE on test data:  0.15535892509168164\n"
     ]
    }
   ],
   "source": [
    "train_predictions = nmf_model.test(train.build_testset())\n",
    "test_predictions = nmf_model.test(test)\n",
    "print(\"RMSE on training data : \", accuracy.rmse(train_predictions, verbose = False))\n",
    "print(\"RMSE on test data: \", accuracy.rmse(test_predictions, verbose = False))"
   ]
  },
  {
   "cell_type": "code",
   "execution_count": 55,
   "id": "34da0401",
   "metadata": {},
   "outputs": [
    {
     "data": {
      "text/plain": [
       "[Prediction(uid=96611, iid=1418, r_ui=0.6666666666666666, est=0.5161668228763133, details={'was_impossible': False}),\n",
       " Prediction(uid=96611, iid=1572, r_ui=0.3333333333333333, est=0.47253945280903087, details={'was_impossible': False}),\n",
       " Prediction(uid=96611, iid=77, r_ui=0.6666666666666666, est=0.5146272078212113, details={'was_impossible': False}),\n",
       " Prediction(uid=96611, iid=184, r_ui=0.6666666666666666, est=0.5109283142518389, details={'was_impossible': False}),\n",
       " Prediction(uid=96611, iid=216, r_ui=0.6666666666666666, est=0.5179924528531888, details={'was_impossible': False})]"
      ]
     },
     "execution_count": 55,
     "metadata": {},
     "output_type": "execute_result"
    }
   ],
   "source": [
    "train_predictions[:5]"
   ]
  },
  {
   "cell_type": "code",
   "execution_count": 56,
   "id": "21fd2321",
   "metadata": {},
   "outputs": [
    {
     "data": {
      "text/plain": [
       "{'n_factors': 14, 'reg_pu': 0.14, 'reg_qi': 0.02, 'n_epochs': 8}"
      ]
     },
     "execution_count": 56,
     "metadata": {},
     "output_type": "execute_result"
    }
   ],
   "source": [
    "param_distributions  = {'n_factors': list(range(10,20,2)),'reg_pu': np.arange(0.01,0.2,0.01),'reg_qi': np.arange(0.01,0.2,0.01), 'n_epochs' : list(range(1,51))}\n",
    "rs = RandomizedSearchCV(NMF, param_distributions, measures=['rmse'], return_train_measures = True, cv = 5, n_iter = 20)\n",
    "rs.fit(data)\n",
    "rs.best_params['rmse']"
   ]
  },
  {
   "cell_type": "code",
   "execution_count": 78,
   "id": "566b9947",
   "metadata": {},
   "outputs": [
    {
     "name": "stdout",
     "output_type": "stream",
     "text": [
      "RMSE on training data :  0.09765073978952016\n",
      "RMSE on test data:  0.14780088519387566\n",
      "RMSE on training data :  0.0706785107106911\n",
      "RMSE on test data:  0.11813059971331104\n"
     ]
    }
   ],
   "source": [
    "#tuned_nmf_model = NMF(n_factors=18, reg_pu = 0.06, reg_qi = 0.16, n_epochs = 38, random_state = 42)\n",
    "tuned_nmf_model = NMF(n_factors=14, reg_pu=0.14, reg_qi= 0.02, n_epochs=8, random_state = 42)\n",
    "tuned_nmf_model.fit(train)\n",
    "train_predictions = tuned_nmf_model.test(train.build_testset())\n",
    "test_predictions = tuned_nmf_model.test(test)\n",
    "print(\"RMSE on training data : \", accuracy.rmse(train_predictions, verbose = False))\n",
    "print(\"RMSE on test data: \", accuracy.rmse(test_predictions, verbose = False))\n",
    "\n",
    "print(\"RMSE on training data : \", accuracy.mae(train_predictions, verbose = False))\n",
    "print(\"RMSE on test data: \", accuracy.mae(test_predictions, verbose = False))"
   ]
  },
  {
   "cell_type": "markdown",
   "id": "add4af8d",
   "metadata": {},
   "source": [
    "# precision recall metric"
   ]
  },
  {
   "cell_type": "code",
   "execution_count": 446,
   "id": "c53a0acf",
   "metadata": {},
   "outputs": [],
   "source": [
    "userIds = []\n",
    "productIds = []\n",
    "ratings = []\n",
    "for (uid, iid, rating) in train.all_ratings():\n",
    "    userIds.append(train.to_raw_uid(uid))\n",
    "    productIds.append(train.to_raw_iid(iid))\n",
    "    ratings.append(rating)\n",
    "dict = {'userId': userIds, 'productIds': productIds, 'rating': ratings}\n",
    "training_df = pd.DataFrame(dict)"
   ]
  },
  {
   "cell_type": "code",
   "execution_count": 447,
   "id": "3a6c3b3e",
   "metadata": {},
   "outputs": [
    {
     "data": {
      "text/plain": [
       "userId\n",
       "0         0.666667\n",
       "4         0.460317\n",
       "43        0.666667\n",
       "48        0.500000\n",
       "139       0.333333\n",
       "            ...   \n",
       "124574    0.333333\n",
       "124586    0.666667\n",
       "124588    0.666667\n",
       "124594    0.666667\n",
       "124616    0.500000\n",
       "Name: rating, Length: 10745, dtype: float64"
      ]
     },
     "execution_count": 447,
     "metadata": {},
     "output_type": "execute_result"
    }
   ],
   "source": [
    "user_averages = training_df.groupby(\"userId\")[\"rating\"].mean()\n",
    "user_averages"
   ]
  },
  {
   "cell_type": "code",
   "execution_count": 448,
   "id": "dd59325d",
   "metadata": {},
   "outputs": [],
   "source": [
    "train_actual_labels = []\n",
    "train_predicted_labels = []\n",
    "for uid, iid, r_ui, est, _ in train_predictions:\n",
    "    if((r_ui - user_averages[uid])>0):\n",
    "        train_actual_labels.append(\"Yes\")\n",
    "    else:\n",
    "        train_actual_labels.append(\"No\")\n",
    "    if((est - user_averages[uid])>0):\n",
    "        train_predicted_labels.append(\"Yes\")\n",
    "    else:\n",
    "        train_predicted_labels.append(\"No\")"
   ]
  },
  {
   "cell_type": "code",
   "execution_count": 449,
   "id": "3968e41d",
   "metadata": {},
   "outputs": [
    {
     "name": "stdout",
     "output_type": "stream",
     "text": [
      "Training data distribution of liked movies derived from actual ratings\n",
      "No     23415\n",
      "Yes    10872\n",
      "dtype: int64\n",
      "\n",
      "Training data distribution of liked movies derived from predicted ratings\n",
      "No     22256\n",
      "Yes    12031\n",
      "dtype: int64\n"
     ]
    }
   ],
   "source": [
    "print(\"Training data distribution of liked movies derived from actual ratings\")\n",
    "print(pd.Series(train_actual_labels).value_counts())\n",
    "print(\"\\nTraining data distribution of liked movies derived from predicted ratings\")\n",
    "print(pd.Series(train_predicted_labels).value_counts())"
   ]
  },
  {
   "cell_type": "code",
   "execution_count": 450,
   "id": "03e61f93",
   "metadata": {},
   "outputs": [
    {
     "data": {
      "text/plain": [
       "userId\n",
       "0         0.666667\n",
       "4         0.460317\n",
       "43        0.666667\n",
       "48        0.500000\n",
       "139       0.333333\n",
       "            ...   \n",
       "124574    0.333333\n",
       "124586    0.666667\n",
       "124588    0.666667\n",
       "124594    0.666667\n",
       "124616    0.500000\n",
       "Name: rating, Length: 10745, dtype: float64"
      ]
     },
     "execution_count": 450,
     "metadata": {},
     "output_type": "execute_result"
    }
   ],
   "source": [
    "user_averages = training_df.groupby(\"userId\")[\"rating\"].mean()\n",
    "user_averages"
   ]
  },
  {
   "cell_type": "code",
   "execution_count": 451,
   "id": "7375f73f",
   "metadata": {},
   "outputs": [],
   "source": [
    "# test"
   ]
  },
  {
   "cell_type": "code",
   "execution_count": 452,
   "id": "2cc50612",
   "metadata": {},
   "outputs": [],
   "source": [
    "test_actual_labels = []\n",
    "test_predicted_labels = []\n",
    "\n",
    "for uid, iid, r_ui, est, _ in test_predictions:\n",
    "    if uid in user_averages: \n",
    "        if((r_ui - user_averages[uid])>0):\n",
    "            test_actual_labels.append(\"Yes\")\n",
    "        else:\n",
    "            test_actual_labels.append(\"No\")\n",
    "        if((est - user_averages[uid])>0):\n",
    "            test_predicted_labels.append(\"Yes\")\n",
    "        else:\n",
    "            test_predicted_labels.append(\"No\") "
   ]
  },
  {
   "cell_type": "code",
   "execution_count": 453,
   "id": "4ed5161d",
   "metadata": {},
   "outputs": [
    {
     "name": "stdout",
     "output_type": "stream",
     "text": [
      "Test data distribution of liked movies derived from actual ratings\n",
      "No     5944\n",
      "Yes    3643\n",
      "dtype: int64\n",
      "\n",
      "Test data distribution of liked movies derived from predicted ratings\n",
      "No     6495\n",
      "Yes    3092\n",
      "dtype: int64\n"
     ]
    }
   ],
   "source": [
    "print(\"Test data distribution of liked movies derived from actual ratings\")\n",
    "print(pd.Series(test_actual_labels).value_counts())\n",
    "print(\"\\nTest data distribution of liked movies derived from predicted ratings\")\n",
    "print(pd.Series(test_predicted_labels).value_counts())"
   ]
  },
  {
   "cell_type": "code",
   "execution_count": 454,
   "id": "82de4d23",
   "metadata": {},
   "outputs": [
    {
     "name": "stdout",
     "output_type": "stream",
     "text": [
      "Confusion matrix on test data\n"
     ]
    },
    {
     "data": {
      "text/plain": [
       "array([[4708, 1236],\n",
       "       [1787, 1856]])"
      ]
     },
     "execution_count": 454,
     "metadata": {},
     "output_type": "execute_result"
    }
   ],
   "source": [
    "print(\"Confusion matrix on test data\")\n",
    "confusion_matrix(test_actual_labels,test_predicted_labels)"
   ]
  },
  {
   "cell_type": "code",
   "execution_count": 455,
   "id": "5ff79137",
   "metadata": {},
   "outputs": [
    {
     "name": "stdout",
     "output_type": "stream",
     "text": [
      "Training data precision :  0.7407530546089269\n",
      "Test data precision :  0.6002587322121604\n"
     ]
    }
   ],
   "source": [
    "print(\"Training data precision : \", precision_score(train_actual_labels,train_predicted_labels,pos_label=\"Yes\"))\n",
    "print(\"Test data precision : \", precision_score(test_actual_labels,test_predicted_labels,pos_label=\"Yes\"))"
   ]
  },
  {
   "cell_type": "code",
   "execution_count": 456,
   "id": "a72bc37e",
   "metadata": {},
   "outputs": [
    {
     "name": "stdout",
     "output_type": "stream",
     "text": [
      "Training data recall :  0.8197203826342899\n",
      "Test data recall :  0.509470216854241\n"
     ]
    }
   ],
   "source": [
    "print(\"Training data recall : \", recall_score(train_actual_labels,train_predicted_labels,pos_label=\"Yes\"))\n",
    "print(\"Test data recall : \", recall_score(test_actual_labels,test_predicted_labels,pos_label=\"Yes\"))"
   ]
  },
  {
   "cell_type": "code",
   "execution_count": 457,
   "id": "07b97439",
   "metadata": {},
   "outputs": [
    {
     "name": "stdout",
     "output_type": "stream",
     "text": [
      "==================== Classification Report ====================\n",
      "              precision    recall  f1-score   support\n",
      "\n",
      "          No       0.72      0.79      0.76      5944\n",
      "         Yes       0.60      0.51      0.55      3643\n",
      "\n",
      "    accuracy                           0.68      9587\n",
      "   macro avg       0.66      0.65      0.65      9587\n",
      "weighted avg       0.68      0.68      0.68      9587\n",
      "\n"
     ]
    }
   ],
   "source": [
    "print(\"=\"*20, \"Classification Report\", \"=\"*20)\n",
    "print(classification_report(test_actual_labels,test_predicted_labels))"
   ]
  },
  {
   "cell_type": "code",
   "execution_count": null,
   "id": "7b23b129",
   "metadata": {},
   "outputs": [],
   "source": []
  }
 ],
 "metadata": {
  "kernelspec": {
   "display_name": "Python 3",
   "language": "python",
   "name": "python3"
  },
  "language_info": {
   "codemirror_mode": {
    "name": "ipython",
    "version": 3
   },
   "file_extension": ".py",
   "mimetype": "text/x-python",
   "name": "python",
   "nbconvert_exporter": "python",
   "pygments_lexer": "ipython3",
   "version": "3.9.5"
  }
 },
 "nbformat": 4,
 "nbformat_minor": 5
}
